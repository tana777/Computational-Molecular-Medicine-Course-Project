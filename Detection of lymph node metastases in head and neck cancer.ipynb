{
 "cells": [
  {
   "cell_type": "markdown",
   "metadata": {},
   "source": [
    "## Computational Molecular Medicine Course Project\n",
    "\n",
    "\n",
    "Tana Gegen, Zeyu Tong"
   ]
  },
  {
   "cell_type": "markdown",
   "metadata": {},
   "source": [
    "### Frame the Problem\n",
    "\n",
    "- Background\n",
    "\n",
    "One of the most intense research areas in computational molecular medicine over the past fifteen years is the prediction of cellular phenotypes, e.g., properties of cancerous growths, based on gene expression profiles. <br>\n",
    "\n",
    "This project is about head and neck cancers, which arise in cells lining mucosal surfaces inside the head and neck (e.g., mouth, nose, and throat). This type of cancer is further categorized by the site of origination (oral cavity, pharynx, larynx, salivary glands, nasal cavity, and paranasal sinuses). These cancers account for about 4%-5% of all cancers in the US, are more common in men, and are diagnosed more often among in people over 50. About 65,000 individuals are diagnosed with head and neck cancers in the US yearly.<br>\n",
    "\n",
    "The most important causes of this type of cancer are alcohol, smoking, smokeless tobacco, and HPV infection. Treatment will depend on the exact tumor location, cancer stage, extension to local lymph nodes, the presence of metastasis, age, and general health. Treatment usually is a combination of surgery, radiation therapy, chemotherapy, and targeted therapy. <br>\n",
    "\n",
    "\n",
    "Cancer might present with or without metastasis to loco-regional lymph-nodes (in this case the neck). The presence of such metastases requires more aggressive treatments. **Unfortunately non-invasive methods to assess metastases in the neck lymph-nodes are not accurate and it is usually necessary to surgically remove the lymph-nodes to investigate the presence or absence of metastases** (neck lymph-nodes dissection).\n",
    "\n",
    "For oral cavity cancers with stage T3 and T4 the probability of lymph-node metastases is high, hence neck lymph-nodes dissection is required. In early stage cancers (stage T1 and T2), however, such probabilities of metastases are around 6% (T1) and 20% (T2). **Therefore, in this group of patients a method to accurately identify patients with and without lymph node metastases could greatly reduce over-treatment by sparing neck lymph-nodes dissection to patients who do not have metastases.**\n",
    "\n",
    "- Data\n",
    " \n",
    " \n",
    "We have assembled gene expression data from the public domain for a population of patients with early-stage oral cavity head and neck cancer, predominantly HPV negative, and with known lymph-node metastasis status (\"NodalStatus\"), which can be positive (Y = 1) or negative (Y = 0). <br>\n",
    "\n",
    "There are two datasets. One dataset was generated using RNAseq (TCGA project) and has a total of 109 samples (27 with positive nodes and 82 with negative nodes). It consists of expression data and phenotype information. The second dataset was generated with a different technology using microarrays and has a total of 112 samples (46 with positive nodes and 66 with negative nodes). It also consists of expression data and phenotype information.\n",
    "\n",
    "- Objective\n",
    "\n",
    "Build a classifier to predict \"NodalStatus.\" \n",
    "\n",
    "- Evaluation\n",
    "\n",
    "Whereas obtaining high accuracy may be the clinical objective, it is not the primary measure of performance for this assignment. Your effort will be evaluated by various criteria, including **creativity, (mathematical) coherence, parsimony, and proper validation**. Finally, in order to allow us to compare your results and frame them in a more clinically realistic setting, **determine the specificity on your test dataset that can be achieved while maintaining 80% sensitivity, where the classifier is trained on your training dataset. Associate sensitivity with positive node status, and just show the ROC curve and report spec(t80).**\n"
   ]
  },
  {
   "cell_type": "markdown",
   "metadata": {},
   "source": [
    "---\n",
    "Before we start to build a model, we should answer the question first. **What is the specific gap in the ideal world and the real one that requires machine learning to fill? **\n",
    "\n",
    "\n",
    "Traditionally non-invasive methods to assess metastases in the neck lymph-nodes are not accurate and it is usually necessary to surgically remove the lymph-nodes to investigate the presence or absence of metastases (neck lymph-nodes dissection). Using Machine Learning predictive algorithms to build a more precise model could help us reduce over-treatment by sparing neck lymph-nodes dissection to patients who do not have metastases.\n",
    "\n"
   ]
  },
  {
   "cell_type": "code",
   "execution_count": 1,
   "metadata": {},
   "outputs": [],
   "source": [
    "# import some libraries\n",
    "import pandas as pd\n",
    "import numpy as np\n",
    "import matplotlib.pyplot as plt\n",
    "%matplotlib inline\n",
    "import random\n",
    "import seaborn as sns\n",
    "# common model helpers\n",
    "from sklearn.preprocessing import StandardScaler\n",
    "from sklearn import metrics\n",
    "from sklearn.model_selection import train_test_split,cross_val_score\n",
    "from sklearn.metrics import roc_curve, auc\n",
    "import scipy\n",
    "from scipy.stats import ranksums,mannwhitneyu\n",
    "# Machine Learning algorithms\n",
    "from sklearn.neighbors import KNeighborsClassifier\n",
    "from sklearn.svm import SVC\n",
    "from sklearn.tree import DecisionTreeClassifier\n",
    "from sklearn.ensemble import RandomForestClassifier, AdaBoostClassifier\n",
    "from sklearn.linear_model import LogisticRegression\n",
    "# Hyper-parameter tuning\n",
    "from sklearn.model_selection import GridSearchCV,KFold"
   ]
  },
  {
   "cell_type": "markdown",
   "metadata": {},
   "source": [
    "### Get the Data"
   ]
  },
  {
   "cell_type": "code",
   "execution_count": 2,
   "metadata": {},
   "outputs": [],
   "source": [
    "micro_exprs = pd.read_csv('arrayStudyExprs.csv')\n",
    "micro_exprs = micro_exprs.T\n",
    "micro_exprs = micro_exprs.rename(columns=micro_exprs.iloc[0])\n",
    "micro_exprs = micro_exprs.reset_index()\n",
    "micro_exprs = micro_exprs.drop([0])\n",
    "micro_exprs = micro_exprs.rename(index=str, columns={\"index\": \"sampleID\"})\n",
    "micro_pheno = pd.read_csv('arrayStudyPheno.csv')\n",
    "micro_pheno = micro_pheno.drop('Unnamed: 0',axis=1)\n",
    "rna_exprs = pd.read_csv('rnaSeqStudyExprs.csv')\n",
    "rna_exprs = rna_exprs.T\n",
    "rna_exprs = rna_exprs.rename(columns=rna_exprs.iloc[0])\n",
    "rna_exprs = rna_exprs.reset_index()\n",
    "rna_exprs = rna_exprs.drop([0])\n",
    "rna_exprs = rna_exprs.rename(index=str, columns={\"index\": \"sampleID\"})\n",
    "rna_pheno = pd.read_csv('rnaSeqStudyPheno.csv')\n",
    "rna_pheno = rna_pheno.drop('Unnamed: 0',axis=1)"
   ]
  },
  {
   "cell_type": "markdown",
   "metadata": {},
   "source": [
    "Dataset generated using RNA-seq"
   ]
  },
  {
   "cell_type": "code",
   "execution_count": 3,
   "metadata": {},
   "outputs": [
    {
     "data": {
      "text/html": [
       "<div>\n",
       "<style scoped>\n",
       "    .dataframe tbody tr th:only-of-type {\n",
       "        vertical-align: middle;\n",
       "    }\n",
       "\n",
       "    .dataframe tbody tr th {\n",
       "        vertical-align: top;\n",
       "    }\n",
       "\n",
       "    .dataframe thead th {\n",
       "        text-align: right;\n",
       "    }\n",
       "</style>\n",
       "<table border=\"1\" class=\"dataframe\">\n",
       "  <thead>\n",
       "    <tr style=\"text-align: right;\">\n",
       "      <th></th>\n",
       "      <th>sampleID</th>\n",
       "      <th>patientID</th>\n",
       "      <th>age</th>\n",
       "      <th>gender</th>\n",
       "      <th>site</th>\n",
       "      <th>HPV</th>\n",
       "      <th>Tstage</th>\n",
       "      <th>NstageClin</th>\n",
       "      <th>NstagePath</th>\n",
       "      <th>smoking</th>\n",
       "      <th>smokingDetails</th>\n",
       "      <th>packyears</th>\n",
       "      <th>OStime</th>\n",
       "      <th>OSevent</th>\n",
       "      <th>dataset</th>\n",
       "      <th>NodeStatus</th>\n",
       "    </tr>\n",
       "  </thead>\n",
       "  <tbody>\n",
       "    <tr>\n",
       "      <th>0</th>\n",
       "      <td>TCGA.BA.5556.01</td>\n",
       "      <td>TCGA-BA-5556</td>\n",
       "      <td>58.0</td>\n",
       "      <td>F</td>\n",
       "      <td>OC</td>\n",
       "      <td>NaN</td>\n",
       "      <td>T2</td>\n",
       "      <td>NaN</td>\n",
       "      <td>N0</td>\n",
       "      <td>YES</td>\n",
       "      <td>1.0</td>\n",
       "      <td>60.0</td>\n",
       "      <td>23.82</td>\n",
       "      <td>No</td>\n",
       "      <td>TCGA</td>\n",
       "      <td>NEG</td>\n",
       "    </tr>\n",
       "    <tr>\n",
       "      <th>1</th>\n",
       "      <td>TCGA.BA.5557.01</td>\n",
       "      <td>TCGA-BA-5557</td>\n",
       "      <td>41.0</td>\n",
       "      <td>F</td>\n",
       "      <td>OC</td>\n",
       "      <td>NaN</td>\n",
       "      <td>T2</td>\n",
       "      <td>NaN</td>\n",
       "      <td>N2</td>\n",
       "      <td>NO</td>\n",
       "      <td>0.0</td>\n",
       "      <td>NaN</td>\n",
       "      <td>20.47</td>\n",
       "      <td>No</td>\n",
       "      <td>TCGA</td>\n",
       "      <td>POS</td>\n",
       "    </tr>\n",
       "    <tr>\n",
       "      <th>2</th>\n",
       "      <td>TCGA.BA.6873.01</td>\n",
       "      <td>TCGA-BA-6873</td>\n",
       "      <td>28.0</td>\n",
       "      <td>M</td>\n",
       "      <td>OC</td>\n",
       "      <td>NaN</td>\n",
       "      <td>T2</td>\n",
       "      <td>NaN</td>\n",
       "      <td>N2</td>\n",
       "      <td>YES</td>\n",
       "      <td>1.0</td>\n",
       "      <td>1.0</td>\n",
       "      <td>4.01</td>\n",
       "      <td>No</td>\n",
       "      <td>TCGA</td>\n",
       "      <td>POS</td>\n",
       "    </tr>\n",
       "    <tr>\n",
       "      <th>3</th>\n",
       "      <td>TCGA.BA.7269.01</td>\n",
       "      <td>TCGA-BA-7269</td>\n",
       "      <td>61.0</td>\n",
       "      <td>M</td>\n",
       "      <td>OC</td>\n",
       "      <td>NaN</td>\n",
       "      <td>T2</td>\n",
       "      <td>NaN</td>\n",
       "      <td>N1</td>\n",
       "      <td>YES</td>\n",
       "      <td>1.0</td>\n",
       "      <td>46.0</td>\n",
       "      <td>41.82</td>\n",
       "      <td>No</td>\n",
       "      <td>TCGA</td>\n",
       "      <td>POS</td>\n",
       "    </tr>\n",
       "    <tr>\n",
       "      <th>4</th>\n",
       "      <td>TCGA.BA.A6DB.01</td>\n",
       "      <td>TCGA-BA-A6DB</td>\n",
       "      <td>24.0</td>\n",
       "      <td>F</td>\n",
       "      <td>OC</td>\n",
       "      <td>Neg</td>\n",
       "      <td>T2</td>\n",
       "      <td>NaN</td>\n",
       "      <td>N0</td>\n",
       "      <td>NO</td>\n",
       "      <td>0.0</td>\n",
       "      <td>NaN</td>\n",
       "      <td>7.10</td>\n",
       "      <td>No</td>\n",
       "      <td>TCGA</td>\n",
       "      <td>NEG</td>\n",
       "    </tr>\n",
       "  </tbody>\n",
       "</table>\n",
       "</div>"
      ],
      "text/plain": [
       "          sampleID     patientID   age gender site  HPV Tstage  NstageClin  \\\n",
       "0  TCGA.BA.5556.01  TCGA-BA-5556  58.0      F   OC  NaN     T2         NaN   \n",
       "1  TCGA.BA.5557.01  TCGA-BA-5557  41.0      F   OC  NaN     T2         NaN   \n",
       "2  TCGA.BA.6873.01  TCGA-BA-6873  28.0      M   OC  NaN     T2         NaN   \n",
       "3  TCGA.BA.7269.01  TCGA-BA-7269  61.0      M   OC  NaN     T2         NaN   \n",
       "4  TCGA.BA.A6DB.01  TCGA-BA-A6DB  24.0      F   OC  Neg     T2         NaN   \n",
       "\n",
       "  NstagePath smoking  smokingDetails  packyears  OStime OSevent dataset  \\\n",
       "0         N0     YES             1.0       60.0   23.82      No    TCGA   \n",
       "1         N2      NO             0.0        NaN   20.47      No    TCGA   \n",
       "2         N2     YES             1.0        1.0    4.01      No    TCGA   \n",
       "3         N1     YES             1.0       46.0   41.82      No    TCGA   \n",
       "4         N0      NO             0.0        NaN    7.10      No    TCGA   \n",
       "\n",
       "  NodeStatus  \n",
       "0        NEG  \n",
       "1        POS  \n",
       "2        POS  \n",
       "3        POS  \n",
       "4        NEG  "
      ]
     },
     "execution_count": 3,
     "metadata": {},
     "output_type": "execute_result"
    }
   ],
   "source": [
    "rna_pheno.head()"
   ]
  },
  {
   "cell_type": "code",
   "execution_count": 4,
   "metadata": {},
   "outputs": [
    {
     "name": "stdout",
     "output_type": "stream",
     "text": [
      "(109, 16)\n",
      "Variable               count of unique value                 content\n",
      "sampleID                             109\t ['TCGA.BA.5556.01' 'TCGA.BA.5557.01' 'TCGA.BA.6873.01' 'TCGA.BA.7269.01']\n",
      "patientID                            109\t ['TCGA-BA-5556' 'TCGA-BA-5557' 'TCGA-BA-6873' 'TCGA-BA-7269']\n",
      "age                                   50\t [58. 41. 28. 61.]\n",
      "gender                                 2\t ['F' 'M']\n",
      "site                                   2\t ['OC' 'Lip']\n",
      "HPV                                    2\t [nan 'Neg']\n",
      "Tstage                                 2\t ['T2' 'T1']\n",
      "NstageClin                             1\t [nan]\n",
      "NstagePath                             3\t ['N0' 'N2' 'N1']\n",
      "smoking                                3\t ['YES' 'NO' nan]\n",
      "smokingDetails                         3\t [ 1.  0. nan]\n",
      "packyears                             33\t [60. nan  1. 46.]\n",
      "OStime                               104\t [23.82 20.47  4.01 41.82]\n",
      "OSevent                                2\t ['No' 'Yes']\n",
      "dataset                                1\t ['TCGA']\n",
      "NodeStatus                             2\t ['NEG' 'POS']\n",
      "------------------------------------------------------------------------------------------------------------------------\n",
      "Total records in the RNAsequence phenotype information set: 109\n",
      "Total vairables in the RNAsequence phenotype information set: 16\n",
      "Total missing values in the RNAsequence phenotype information set:\n",
      " sampleID            0\n",
      "patientID           0\n",
      "age                 1\n",
      "gender              0\n",
      "site                0\n",
      "HPV                93\n",
      "Tstage              0\n",
      "NstageClin        109\n",
      "NstagePath          0\n",
      "smoking             5\n",
      "smokingDetails      5\n",
      "packyears          60\n",
      "OStime              1\n",
      "OSevent             0\n",
      "dataset             0\n",
      "NodeStatus          0\n",
      "dtype: int64\n"
     ]
    }
   ],
   "source": [
    "print(rna_pheno.shape)\n",
    "print('Variable', ' '*13, 'count of unique value',' '*15, 'content')\n",
    "for column in rna_pheno.columns:\n",
    "    uniques = rna_pheno[column].unique()\n",
    "    print('{0:26s} {1:13d}\\t'.format(column, len(uniques)), uniques[:4])\n",
    "print('-'*120)\n",
    "print(\"Total records in the RNAsequence phenotype information set:\",len(rna_pheno))\n",
    "print(\"Total vairables in the RNAsequence phenotype information set:\",rna_pheno.shape[1])\n",
    "print('Total missing values in the RNAsequence phenotype information set:\\n',rna_pheno.isnull().sum())"
   ]
  },
  {
   "cell_type": "code",
   "execution_count": 5,
   "metadata": {},
   "outputs": [
    {
     "data": {
      "text/html": [
       "<div>\n",
       "<style scoped>\n",
       "    .dataframe tbody tr th:only-of-type {\n",
       "        vertical-align: middle;\n",
       "    }\n",
       "\n",
       "    .dataframe tbody tr th {\n",
       "        vertical-align: top;\n",
       "    }\n",
       "\n",
       "    .dataframe thead th {\n",
       "        text-align: right;\n",
       "    }\n",
       "</style>\n",
       "<table border=\"1\" class=\"dataframe\">\n",
       "  <thead>\n",
       "    <tr style=\"text-align: right;\">\n",
       "      <th></th>\n",
       "      <th>sampleID</th>\n",
       "      <th>ATOX1</th>\n",
       "      <th>SQSTM1</th>\n",
       "      <th>RPS16</th>\n",
       "      <th>TNPO2</th>\n",
       "      <th>RABGAP1</th>\n",
       "      <th>GPX1</th>\n",
       "      <th>TCEA1</th>\n",
       "      <th>ZNF107</th>\n",
       "      <th>AKAP9</th>\n",
       "      <th>...</th>\n",
       "      <th>MTFMT</th>\n",
       "      <th>SV2A</th>\n",
       "      <th>PICK1</th>\n",
       "      <th>NOSIP</th>\n",
       "      <th>AKR1C3</th>\n",
       "      <th>TBRG4</th>\n",
       "      <th>NTF3</th>\n",
       "      <th>DGCR6L</th>\n",
       "      <th>MDH1</th>\n",
       "      <th>ARL6IP1</th>\n",
       "    </tr>\n",
       "  </thead>\n",
       "  <tbody>\n",
       "    <tr>\n",
       "      <th>1</th>\n",
       "      <td>TCGA.BA.5556.01</td>\n",
       "      <td>9.94575</td>\n",
       "      <td>11.899</td>\n",
       "      <td>12.7862</td>\n",
       "      <td>10.6486</td>\n",
       "      <td>10.7894</td>\n",
       "      <td>11.7291</td>\n",
       "      <td>9.32403</td>\n",
       "      <td>7.90932</td>\n",
       "      <td>10.2395</td>\n",
       "      <td>...</td>\n",
       "      <td>8.12371</td>\n",
       "      <td>6.61875</td>\n",
       "      <td>8.86357</td>\n",
       "      <td>9.55543</td>\n",
       "      <td>8.71182</td>\n",
       "      <td>10.4295</td>\n",
       "      <td>5.24306</td>\n",
       "      <td>9.13187</td>\n",
       "      <td>10.6861</td>\n",
       "      <td>11.6254</td>\n",
       "    </tr>\n",
       "    <tr>\n",
       "      <th>2</th>\n",
       "      <td>TCGA.BA.5557.01</td>\n",
       "      <td>10.1053</td>\n",
       "      <td>12.2682</td>\n",
       "      <td>12.8411</td>\n",
       "      <td>10.5651</td>\n",
       "      <td>10.5508</td>\n",
       "      <td>11.1777</td>\n",
       "      <td>9.70067</td>\n",
       "      <td>7.49534</td>\n",
       "      <td>9.60042</td>\n",
       "      <td>...</td>\n",
       "      <td>7.96153</td>\n",
       "      <td>7.61692</td>\n",
       "      <td>9.1483</td>\n",
       "      <td>9.80784</td>\n",
       "      <td>7.64356</td>\n",
       "      <td>10.2711</td>\n",
       "      <td>6.21835</td>\n",
       "      <td>9.79971</td>\n",
       "      <td>10.7076</td>\n",
       "      <td>11.3576</td>\n",
       "    </tr>\n",
       "    <tr>\n",
       "      <th>3</th>\n",
       "      <td>TCGA.BA.6873.01</td>\n",
       "      <td>9.2086</td>\n",
       "      <td>11.7633</td>\n",
       "      <td>12.4134</td>\n",
       "      <td>10.8563</td>\n",
       "      <td>10.4045</td>\n",
       "      <td>11.7044</td>\n",
       "      <td>10.5815</td>\n",
       "      <td>7.79384</td>\n",
       "      <td>9.97922</td>\n",
       "      <td>...</td>\n",
       "      <td>8.57664</td>\n",
       "      <td>6.97733</td>\n",
       "      <td>8.89312</td>\n",
       "      <td>9.54295</td>\n",
       "      <td>9.24285</td>\n",
       "      <td>10.6465</td>\n",
       "      <td>5.18638</td>\n",
       "      <td>9.03137</td>\n",
       "      <td>10.7907</td>\n",
       "      <td>11.9573</td>\n",
       "    </tr>\n",
       "    <tr>\n",
       "      <th>4</th>\n",
       "      <td>TCGA.BA.7269.01</td>\n",
       "      <td>10.9771</td>\n",
       "      <td>12.9638</td>\n",
       "      <td>13.9463</td>\n",
       "      <td>9.68729</td>\n",
       "      <td>9.06677</td>\n",
       "      <td>12.7203</td>\n",
       "      <td>10.92</td>\n",
       "      <td>6.27028</td>\n",
       "      <td>8.27653</td>\n",
       "      <td>...</td>\n",
       "      <td>8.47579</td>\n",
       "      <td>8.78659</td>\n",
       "      <td>10.377</td>\n",
       "      <td>11.6304</td>\n",
       "      <td>11.4617</td>\n",
       "      <td>10.7314</td>\n",
       "      <td>5.06173</td>\n",
       "      <td>11.6524</td>\n",
       "      <td>11.3626</td>\n",
       "      <td>10.8618</td>\n",
       "    </tr>\n",
       "    <tr>\n",
       "      <th>5</th>\n",
       "      <td>TCGA.BA.A6DB.01</td>\n",
       "      <td>10.0565</td>\n",
       "      <td>12.3889</td>\n",
       "      <td>13.1893</td>\n",
       "      <td>10.5679</td>\n",
       "      <td>10.2145</td>\n",
       "      <td>11.8974</td>\n",
       "      <td>10.2049</td>\n",
       "      <td>7.72694</td>\n",
       "      <td>9.94531</td>\n",
       "      <td>...</td>\n",
       "      <td>8.20069</td>\n",
       "      <td>6.54679</td>\n",
       "      <td>9.04655</td>\n",
       "      <td>9.93023</td>\n",
       "      <td>8.50039</td>\n",
       "      <td>10.4488</td>\n",
       "      <td>5.50505</td>\n",
       "      <td>9.96116</td>\n",
       "      <td>11.3707</td>\n",
       "      <td>11.2945</td>\n",
       "    </tr>\n",
       "  </tbody>\n",
       "</table>\n",
       "<p>5 rows × 9224 columns</p>\n",
       "</div>"
      ],
      "text/plain": [
       "          sampleID    ATOX1   SQSTM1    RPS16    TNPO2  RABGAP1     GPX1  \\\n",
       "1  TCGA.BA.5556.01  9.94575   11.899  12.7862  10.6486  10.7894  11.7291   \n",
       "2  TCGA.BA.5557.01  10.1053  12.2682  12.8411  10.5651  10.5508  11.1777   \n",
       "3  TCGA.BA.6873.01   9.2086  11.7633  12.4134  10.8563  10.4045  11.7044   \n",
       "4  TCGA.BA.7269.01  10.9771  12.9638  13.9463  9.68729  9.06677  12.7203   \n",
       "5  TCGA.BA.A6DB.01  10.0565  12.3889  13.1893  10.5679  10.2145  11.8974   \n",
       "\n",
       "     TCEA1   ZNF107    AKAP9   ...       MTFMT     SV2A    PICK1    NOSIP  \\\n",
       "1  9.32403  7.90932  10.2395   ...     8.12371  6.61875  8.86357  9.55543   \n",
       "2  9.70067  7.49534  9.60042   ...     7.96153  7.61692   9.1483  9.80784   \n",
       "3  10.5815  7.79384  9.97922   ...     8.57664  6.97733  8.89312  9.54295   \n",
       "4    10.92  6.27028  8.27653   ...     8.47579  8.78659   10.377  11.6304   \n",
       "5  10.2049  7.72694  9.94531   ...     8.20069  6.54679  9.04655  9.93023   \n",
       "\n",
       "    AKR1C3    TBRG4     NTF3   DGCR6L     MDH1  ARL6IP1  \n",
       "1  8.71182  10.4295  5.24306  9.13187  10.6861  11.6254  \n",
       "2  7.64356  10.2711  6.21835  9.79971  10.7076  11.3576  \n",
       "3  9.24285  10.6465  5.18638  9.03137  10.7907  11.9573  \n",
       "4  11.4617  10.7314  5.06173  11.6524  11.3626  10.8618  \n",
       "5  8.50039  10.4488  5.50505  9.96116  11.3707  11.2945  \n",
       "\n",
       "[5 rows x 9224 columns]"
      ]
     },
     "execution_count": 5,
     "metadata": {},
     "output_type": "execute_result"
    }
   ],
   "source": [
    "rna_exprs.head()"
   ]
  },
  {
   "cell_type": "code",
   "execution_count": 6,
   "metadata": {},
   "outputs": [
    {
     "name": "stdout",
     "output_type": "stream",
     "text": [
      "Total records in the RNAsequence expression set: 109\n",
      "Total vairables in the RNAsequence expression set: 9223\n",
      "Total missing values in the RNAsequence expression set: 0\n"
     ]
    }
   ],
   "source": [
    "print(\"Total records in the RNAsequence expression set:\",len(rna_exprs))\n",
    "print(\"Total vairables in the RNAsequence expression set:\",rna_exprs.shape[1]-1)\n",
    "print('Total missing values in the RNAsequence expression set:',rna_exprs.isnull().sum().sum())"
   ]
  },
  {
   "cell_type": "markdown",
   "metadata": {},
   "source": [
    "We can see that dataset generated by RNAsequence includes 109 patients(data instances), for gene expression data, it can be viewed as 109 observations with 9223 features; for phenotype information data, it can be considered as 109 observations with 16 variables. Some of the variables are with many missing values. Additionally, the last phenotype variable 'NodeStatus' which is the target variable of our task, has two unique values with positive and negtive. "
   ]
  },
  {
   "cell_type": "markdown",
   "metadata": {},
   "source": [
    "Dataset generated using Microarray"
   ]
  },
  {
   "cell_type": "code",
   "execution_count": 7,
   "metadata": {},
   "outputs": [
    {
     "data": {
      "text/html": [
       "<div>\n",
       "<style scoped>\n",
       "    .dataframe tbody tr th:only-of-type {\n",
       "        vertical-align: middle;\n",
       "    }\n",
       "\n",
       "    .dataframe tbody tr th {\n",
       "        vertical-align: top;\n",
       "    }\n",
       "\n",
       "    .dataframe thead th {\n",
       "        text-align: right;\n",
       "    }\n",
       "</style>\n",
       "<table border=\"1\" class=\"dataframe\">\n",
       "  <thead>\n",
       "    <tr style=\"text-align: right;\">\n",
       "      <th></th>\n",
       "      <th>sampleID</th>\n",
       "      <th>patientID</th>\n",
       "      <th>age</th>\n",
       "      <th>gender</th>\n",
       "      <th>site</th>\n",
       "      <th>HPV</th>\n",
       "      <th>Tstage</th>\n",
       "      <th>NstageClin</th>\n",
       "      <th>NstagePath</th>\n",
       "      <th>smoking</th>\n",
       "      <th>smokingDetails</th>\n",
       "      <th>packyears</th>\n",
       "      <th>OStime</th>\n",
       "      <th>OSevent</th>\n",
       "      <th>dataset</th>\n",
       "      <th>NodeStatus</th>\n",
       "    </tr>\n",
       "  </thead>\n",
       "  <tbody>\n",
       "    <tr>\n",
       "      <th>0</th>\n",
       "      <td>323CC158-20070829-Hu133.CEL</td>\n",
       "      <td>1831</td>\n",
       "      <td>62.0</td>\n",
       "      <td>M</td>\n",
       "      <td>OC</td>\n",
       "      <td>Neg</td>\n",
       "      <td>T1</td>\n",
       "      <td>NaN</td>\n",
       "      <td>N2</td>\n",
       "      <td>YES</td>\n",
       "      <td>1</td>\n",
       "      <td>180.0</td>\n",
       "      <td>24.69</td>\n",
       "      <td>Yes</td>\n",
       "      <td>Chung</td>\n",
       "      <td>POS</td>\n",
       "    </tr>\n",
       "    <tr>\n",
       "      <th>1</th>\n",
       "      <td>2004-10-15-CHC69-Chung-Human2.0-Rep1.CEL</td>\n",
       "      <td>372</td>\n",
       "      <td>77.0</td>\n",
       "      <td>F</td>\n",
       "      <td>OC</td>\n",
       "      <td>Neg</td>\n",
       "      <td>T1</td>\n",
       "      <td>NaN</td>\n",
       "      <td>N0</td>\n",
       "      <td>NO</td>\n",
       "      <td>0</td>\n",
       "      <td>0.0</td>\n",
       "      <td>49.91</td>\n",
       "      <td>No</td>\n",
       "      <td>Chung</td>\n",
       "      <td>NEG</td>\n",
       "    </tr>\n",
       "    <tr>\n",
       "      <th>2</th>\n",
       "      <td>2004-04-22-CHC45-Chung-Human2.0-Rep1.CEL</td>\n",
       "      <td>HN97-0108B</td>\n",
       "      <td>52.0</td>\n",
       "      <td>F</td>\n",
       "      <td>OC</td>\n",
       "      <td>Neg</td>\n",
       "      <td>T2</td>\n",
       "      <td>NaN</td>\n",
       "      <td>N0</td>\n",
       "      <td>YES</td>\n",
       "      <td>1</td>\n",
       "      <td>NaN</td>\n",
       "      <td>29.75</td>\n",
       "      <td>No</td>\n",
       "      <td>Chung</td>\n",
       "      <td>NEG</td>\n",
       "    </tr>\n",
       "    <tr>\n",
       "      <th>3</th>\n",
       "      <td>2004-10-15-CHC66-Chung-Human2.0-Rep1.CEL</td>\n",
       "      <td>364</td>\n",
       "      <td>47.0</td>\n",
       "      <td>F</td>\n",
       "      <td>OC</td>\n",
       "      <td>Neg</td>\n",
       "      <td>T2</td>\n",
       "      <td>NaN</td>\n",
       "      <td>N0</td>\n",
       "      <td>YES</td>\n",
       "      <td>1</td>\n",
       "      <td>70.0</td>\n",
       "      <td>43.66</td>\n",
       "      <td>No</td>\n",
       "      <td>Chung</td>\n",
       "      <td>NEG</td>\n",
       "    </tr>\n",
       "    <tr>\n",
       "      <th>4</th>\n",
       "      <td>2004-10-15-CHC67-Chung-Human2.0-Rep1.CEL</td>\n",
       "      <td>371</td>\n",
       "      <td>69.0</td>\n",
       "      <td>M</td>\n",
       "      <td>OC</td>\n",
       "      <td>Neg</td>\n",
       "      <td>T1</td>\n",
       "      <td>NaN</td>\n",
       "      <td>N1</td>\n",
       "      <td>YES</td>\n",
       "      <td>1</td>\n",
       "      <td>63.0</td>\n",
       "      <td>9.40</td>\n",
       "      <td>Yes</td>\n",
       "      <td>Chung</td>\n",
       "      <td>POS</td>\n",
       "    </tr>\n",
       "  </tbody>\n",
       "</table>\n",
       "</div>"
      ],
      "text/plain": [
       "                                   sampleID   patientID   age gender site  \\\n",
       "0               323CC158-20070829-Hu133.CEL        1831  62.0      M   OC   \n",
       "1  2004-10-15-CHC69-Chung-Human2.0-Rep1.CEL         372  77.0      F   OC   \n",
       "2  2004-04-22-CHC45-Chung-Human2.0-Rep1.CEL  HN97-0108B  52.0      F   OC   \n",
       "3  2004-10-15-CHC66-Chung-Human2.0-Rep1.CEL         364  47.0      F   OC   \n",
       "4  2004-10-15-CHC67-Chung-Human2.0-Rep1.CEL         371  69.0      M   OC   \n",
       "\n",
       "   HPV Tstage NstageClin NstagePath smoking smokingDetails  packyears  OStime  \\\n",
       "0  Neg     T1        NaN         N2     YES              1      180.0   24.69   \n",
       "1  Neg     T1        NaN         N0      NO              0        0.0   49.91   \n",
       "2  Neg     T2        NaN         N0     YES              1        NaN   29.75   \n",
       "3  Neg     T2        NaN         N0     YES              1       70.0   43.66   \n",
       "4  Neg     T1        NaN         N1     YES              1       63.0    9.40   \n",
       "\n",
       "  OSevent dataset NodeStatus  \n",
       "0     Yes   Chung        POS  \n",
       "1      No   Chung        NEG  \n",
       "2      No   Chung        NEG  \n",
       "3      No   Chung        NEG  \n",
       "4     Yes   Chung        POS  "
      ]
     },
     "execution_count": 7,
     "metadata": {},
     "output_type": "execute_result"
    }
   ],
   "source": [
    "micro_pheno.head()"
   ]
  },
  {
   "cell_type": "code",
   "execution_count": 8,
   "metadata": {},
   "outputs": [
    {
     "name": "stdout",
     "output_type": "stream",
     "text": [
      "(112, 16)\n",
      "Variable               count of unique value                 content\n",
      "sampleID                             112\t ['323CC158-20070829-Hu133.CEL' '2004-10-15-CHC69-Chung-Human2.0-Rep1.CEL']\n",
      "patientID                            112\t ['1831' '372']\n",
      "age                                   49\t [62. 77.]\n",
      "gender                                 2\t ['M' 'F']\n",
      "site                                   1\t ['OC']\n",
      "HPV                                    2\t ['Neg' nan]\n",
      "Tstage                                 2\t ['T1' 'T2']\n",
      "NstageClin                             3\t [nan 'NEG']\n",
      "NstagePath                             3\t ['N2' 'N0']\n",
      "smoking                                2\t ['YES' 'NO']\n",
      "smokingDetails                         5\t ['1' '0']\n",
      "packyears                             32\t [180.   0.]\n",
      "OStime                                78\t [24.69 49.91]\n",
      "OSevent                                2\t ['Yes' 'No']\n",
      "dataset                                5\t ['Chung' 'GSE39366']\n",
      "NodeStatus                             2\t ['POS' 'NEG']\n",
      "------------------------------------------------------------------------------------------------------------------------\n",
      "Total records in the microarray phenotype information set: 112\n",
      "Total variables in the microarray phenotype information set: 16\n",
      "Total missing values in the microarray phenotype information set:\n",
      " sampleID           0\n",
      "patientID          0\n",
      "age                0\n",
      "gender             0\n",
      "site               0\n",
      "HPV               55\n",
      "Tstage             0\n",
      "NstageClin        64\n",
      "NstagePath         0\n",
      "smoking            0\n",
      "smokingDetails     0\n",
      "packyears         55\n",
      "OStime            17\n",
      "OSevent            0\n",
      "dataset            0\n",
      "NodeStatus         0\n",
      "dtype: int64\n"
     ]
    }
   ],
   "source": [
    "print(micro_pheno.shape)\n",
    "print('Variable', ' '*13, 'count of unique value',' '*15, 'content')\n",
    "for column in micro_pheno.columns:\n",
    "    uniques = micro_pheno[column].unique()\n",
    "    print('{0:26s} {1:13d}\\t'.format(column, len(uniques)), uniques[:2])\n",
    "print('-'*120)\n",
    "print(\"Total records in the microarray phenotype information set:\",len(micro_pheno))\n",
    "print(\"Total variables in the microarray phenotype information set:\",micro_pheno.shape[1])\n",
    "print(\"Total missing values in the microarray phenotype information set:\\n\",micro_pheno.isnull().sum())\n"
   ]
  },
  {
   "cell_type": "code",
   "execution_count": 9,
   "metadata": {},
   "outputs": [
    {
     "data": {
      "text/html": [
       "<div>\n",
       "<style scoped>\n",
       "    .dataframe tbody tr th:only-of-type {\n",
       "        vertical-align: middle;\n",
       "    }\n",
       "\n",
       "    .dataframe tbody tr th {\n",
       "        vertical-align: top;\n",
       "    }\n",
       "\n",
       "    .dataframe thead th {\n",
       "        text-align: right;\n",
       "    }\n",
       "</style>\n",
       "<table border=\"1\" class=\"dataframe\">\n",
       "  <thead>\n",
       "    <tr style=\"text-align: right;\">\n",
       "      <th></th>\n",
       "      <th>sampleID</th>\n",
       "      <th>ATOX1</th>\n",
       "      <th>SQSTM1</th>\n",
       "      <th>RPS16</th>\n",
       "      <th>TNPO2</th>\n",
       "      <th>RABGAP1</th>\n",
       "      <th>GPX1</th>\n",
       "      <th>TCEA1</th>\n",
       "      <th>ZNF107</th>\n",
       "      <th>AKAP9</th>\n",
       "      <th>...</th>\n",
       "      <th>MTFMT</th>\n",
       "      <th>SV2A</th>\n",
       "      <th>PICK1</th>\n",
       "      <th>NOSIP</th>\n",
       "      <th>AKR1C3</th>\n",
       "      <th>TBRG4</th>\n",
       "      <th>NTF3</th>\n",
       "      <th>DGCR6L</th>\n",
       "      <th>MDH1</th>\n",
       "      <th>ARL6IP1</th>\n",
       "    </tr>\n",
       "  </thead>\n",
       "  <tbody>\n",
       "    <tr>\n",
       "      <th>1</th>\n",
       "      <td>323CC158-20070829-Hu133.CEL</td>\n",
       "      <td>9.6399</td>\n",
       "      <td>11.0315</td>\n",
       "      <td>10.8971</td>\n",
       "      <td>8.3616</td>\n",
       "      <td>8.32437</td>\n",
       "      <td>9.17835</td>\n",
       "      <td>9.48897</td>\n",
       "      <td>7.96111</td>\n",
       "      <td>11.4848</td>\n",
       "      <td>...</td>\n",
       "      <td>9.27375</td>\n",
       "      <td>7.01153</td>\n",
       "      <td>9.69377</td>\n",
       "      <td>10.4145</td>\n",
       "      <td>9.88823</td>\n",
       "      <td>6.89275</td>\n",
       "      <td>8.83852</td>\n",
       "      <td>9.26045</td>\n",
       "      <td>11.3013</td>\n",
       "      <td>13.2211</td>\n",
       "    </tr>\n",
       "    <tr>\n",
       "      <th>2</th>\n",
       "      <td>2004-10-15-CHC69-Chung-Human2.0-Rep1.CEL</td>\n",
       "      <td>11.3676</td>\n",
       "      <td>11.2965</td>\n",
       "      <td>13.1648</td>\n",
       "      <td>6.98818</td>\n",
       "      <td>6.02505</td>\n",
       "      <td>11.2764</td>\n",
       "      <td>7.59725</td>\n",
       "      <td>6.40635</td>\n",
       "      <td>7.22861</td>\n",
       "      <td>...</td>\n",
       "      <td>9.27291</td>\n",
       "      <td>8.66096</td>\n",
       "      <td>9.37166</td>\n",
       "      <td>10.3302</td>\n",
       "      <td>10.5338</td>\n",
       "      <td>6.62441</td>\n",
       "      <td>8.92038</td>\n",
       "      <td>8.94885</td>\n",
       "      <td>10.6867</td>\n",
       "      <td>12.1277</td>\n",
       "    </tr>\n",
       "    <tr>\n",
       "      <th>3</th>\n",
       "      <td>2004-04-22-CHC45-Chung-Human2.0-Rep1.CEL</td>\n",
       "      <td>10.9193</td>\n",
       "      <td>11.3737</td>\n",
       "      <td>12.4705</td>\n",
       "      <td>7.85729</td>\n",
       "      <td>5.69562</td>\n",
       "      <td>10.5777</td>\n",
       "      <td>8.07743</td>\n",
       "      <td>6.64513</td>\n",
       "      <td>8.98909</td>\n",
       "      <td>...</td>\n",
       "      <td>9.0192</td>\n",
       "      <td>8.55235</td>\n",
       "      <td>9.31403</td>\n",
       "      <td>10.194</td>\n",
       "      <td>12.6256</td>\n",
       "      <td>6.98546</td>\n",
       "      <td>9.19658</td>\n",
       "      <td>9.60062</td>\n",
       "      <td>10.4061</td>\n",
       "      <td>11.4596</td>\n",
       "    </tr>\n",
       "    <tr>\n",
       "      <th>4</th>\n",
       "      <td>2004-10-15-CHC66-Chung-Human2.0-Rep1.CEL</td>\n",
       "      <td>10.79</td>\n",
       "      <td>11.0299</td>\n",
       "      <td>11.9663</td>\n",
       "      <td>7.30478</td>\n",
       "      <td>5.03082</td>\n",
       "      <td>10.5905</td>\n",
       "      <td>7.72375</td>\n",
       "      <td>6.44695</td>\n",
       "      <td>7.91257</td>\n",
       "      <td>...</td>\n",
       "      <td>8.95066</td>\n",
       "      <td>8.47243</td>\n",
       "      <td>9.38747</td>\n",
       "      <td>9.64656</td>\n",
       "      <td>11.4973</td>\n",
       "      <td>7.3923</td>\n",
       "      <td>9.10697</td>\n",
       "      <td>9.38208</td>\n",
       "      <td>10.8146</td>\n",
       "      <td>11.4639</td>\n",
       "    </tr>\n",
       "    <tr>\n",
       "      <th>5</th>\n",
       "      <td>2004-10-15-CHC67-Chung-Human2.0-Rep1.CEL</td>\n",
       "      <td>10.9971</td>\n",
       "      <td>11.1214</td>\n",
       "      <td>12.4735</td>\n",
       "      <td>7.51934</td>\n",
       "      <td>5.10657</td>\n",
       "      <td>10.7764</td>\n",
       "      <td>8.03047</td>\n",
       "      <td>6.59207</td>\n",
       "      <td>6.96197</td>\n",
       "      <td>...</td>\n",
       "      <td>8.77719</td>\n",
       "      <td>8.13476</td>\n",
       "      <td>9.28385</td>\n",
       "      <td>9.72998</td>\n",
       "      <td>11.2728</td>\n",
       "      <td>5.64528</td>\n",
       "      <td>9.28758</td>\n",
       "      <td>9.33917</td>\n",
       "      <td>10.4727</td>\n",
       "      <td>11.6329</td>\n",
       "    </tr>\n",
       "  </tbody>\n",
       "</table>\n",
       "<p>5 rows × 9224 columns</p>\n",
       "</div>"
      ],
      "text/plain": [
       "                                   sampleID    ATOX1   SQSTM1    RPS16  \\\n",
       "1               323CC158-20070829-Hu133.CEL   9.6399  11.0315  10.8971   \n",
       "2  2004-10-15-CHC69-Chung-Human2.0-Rep1.CEL  11.3676  11.2965  13.1648   \n",
       "3  2004-04-22-CHC45-Chung-Human2.0-Rep1.CEL  10.9193  11.3737  12.4705   \n",
       "4  2004-10-15-CHC66-Chung-Human2.0-Rep1.CEL    10.79  11.0299  11.9663   \n",
       "5  2004-10-15-CHC67-Chung-Human2.0-Rep1.CEL  10.9971  11.1214  12.4735   \n",
       "\n",
       "     TNPO2  RABGAP1     GPX1    TCEA1   ZNF107    AKAP9   ...       MTFMT  \\\n",
       "1   8.3616  8.32437  9.17835  9.48897  7.96111  11.4848   ...     9.27375   \n",
       "2  6.98818  6.02505  11.2764  7.59725  6.40635  7.22861   ...     9.27291   \n",
       "3  7.85729  5.69562  10.5777  8.07743  6.64513  8.98909   ...      9.0192   \n",
       "4  7.30478  5.03082  10.5905  7.72375  6.44695  7.91257   ...     8.95066   \n",
       "5  7.51934  5.10657  10.7764  8.03047  6.59207  6.96197   ...     8.77719   \n",
       "\n",
       "      SV2A    PICK1    NOSIP   AKR1C3    TBRG4     NTF3   DGCR6L     MDH1  \\\n",
       "1  7.01153  9.69377  10.4145  9.88823  6.89275  8.83852  9.26045  11.3013   \n",
       "2  8.66096  9.37166  10.3302  10.5338  6.62441  8.92038  8.94885  10.6867   \n",
       "3  8.55235  9.31403   10.194  12.6256  6.98546  9.19658  9.60062  10.4061   \n",
       "4  8.47243  9.38747  9.64656  11.4973   7.3923  9.10697  9.38208  10.8146   \n",
       "5  8.13476  9.28385  9.72998  11.2728  5.64528  9.28758  9.33917  10.4727   \n",
       "\n",
       "   ARL6IP1  \n",
       "1  13.2211  \n",
       "2  12.1277  \n",
       "3  11.4596  \n",
       "4  11.4639  \n",
       "5  11.6329  \n",
       "\n",
       "[5 rows x 9224 columns]"
      ]
     },
     "execution_count": 9,
     "metadata": {},
     "output_type": "execute_result"
    }
   ],
   "source": [
    "micro_exprs.head()"
   ]
  },
  {
   "cell_type": "code",
   "execution_count": 10,
   "metadata": {},
   "outputs": [
    {
     "name": "stdout",
     "output_type": "stream",
     "text": [
      "Total records in the microarray gene expression set: 112\n",
      "Total vairables in the microarray gene expression set: 9223\n",
      "Total missing values in the microarray gene expression set: 0\n"
     ]
    }
   ],
   "source": [
    "print(\"Total records in the microarray gene expression set:\",len(micro_exprs))\n",
    "print(\"Total vairables in the microarray gene expression set:\",micro_exprs.shape[1]-1)\n",
    "print(\"Total missing values in the microarray gene expression set:\",micro_exprs.isnull().sum().sum())"
   ]
  },
  {
   "cell_type": "markdown",
   "metadata": {},
   "source": [
    "It is clear that dataset generated by microarray method includes 112 patients(data instances), for gene expression data, it can be viewed as 112 observations with 9223 features; for phenotype information data, it can be considered as 112 observations with 16 variables. Additionally, the last phenotype variable 'NodeStatus' which is the target variable of our task, has two unique values with positive and negtive. Except for the number of patients, the rest set up is the same as RNAsequence dataset."
   ]
  },
  {
   "cell_type": "markdown",
   "metadata": {},
   "source": [
    "- It is clear that the number of features is much larger than the amount of data, but we could not combine two dataset together because they are generated using different technologies and may occur 'platform effects'.\n",
    "\n"
   ]
  },
  {
   "cell_type": "markdown",
   "metadata": {},
   "source": [
    "**Differentially Expressed Genes**"
   ]
  },
  {
   "cell_type": "markdown",
   "metadata": {},
   "source": [
    "A typical bioinformatics problem (e.g. classification) with high-dimensional omics data includes redundant and irrelevant features that can result, in the worst-case scenario, in false positive results. Then, feature selection becomes significantly important. The classification of gene expression data samples involves feature selection and classifier design. \n",
    "RNA-seq and microarray are two main technologies for profiling gene expression levels. As we observed before, the two datasets holds thousands of gene expression with hundreds of observations, which is the main characteristic but not friendly to applying machine learning algorithms. In the absence of feature selection, classification accuracy on the training data is typically good, but not replicated on the testing data. Except for considering accuracy of model, determining differentially expressed genes (DEGs) between biological samples is the key to understand how genotype gives rise to phenotype, here is 'NodeStatus' variable. A gene is declared differentially expressed if an observed difference or change in expression levels between two experimental conditions is statistically significant.\n",
    "\n",
    "\n",
    "A variety of methods have been published to detect differentially expressed genes. Some methods are based on non-statistical quantification of expression differences, but most methods are based on statistical tests to quantify the significance of differences in gene expression between samples.\n",
    "These statistical methods can furthermore be divided into two methodological categories: parametric tests and non-parametric tests. Here I will use non-parametric test Wilcoxon rank sum test to select a small subset(DEGs) out of the 9,223 of genes in microarray data and RNA-seq data for further study.\n"
   ]
  },
  {
   "cell_type": "markdown",
   "metadata": {},
   "source": [
    "### Prepare the data"
   ]
  },
  {
   "cell_type": "markdown",
   "metadata": {},
   "source": [
    "**1. Adding some promising variables from phenotype dataset**\n",
    "\n",
    "After checking the missing values, I decide to combine some of phenotype variables with gene expression data to classify 'NodeStatus' variable. Further, since observations are limited to a small magnitude, we will not choose the variable with too many missing values which may add noise to the dataset. Consequently, we add 'gender', 'smoking', 'Tstage' and 'age' features, and convert their formats for running algorithms. "
   ]
  },
  {
   "cell_type": "code",
   "execution_count": 11,
   "metadata": {},
   "outputs": [],
   "source": [
    "rna_pheno.loc[rna_pheno['gender']=='F','gender']=0\n",
    "rna_pheno.loc[rna_pheno['gender']=='M','gender']=1\n",
    "rna_pheno.loc[rna_pheno['smoking']=='YES','smoking']=0\n",
    "rna_pheno.loc[rna_pheno['smoking']=='NO','smoking']=1\n",
    "rna_pheno.loc[rna_pheno['Tstage']=='T1','Tstage']=0.06\n",
    "rna_pheno.loc[rna_pheno['Tstage']=='T2','Tstage']=0.2\n",
    "rna_pheno['smoking'].fillna(np.median(rna_pheno['smoking']), inplace=True)\n",
    "rna_pheno['age'].fillna(round(np.mean(rna_pheno['age']),0), inplace=True)"
   ]
  },
  {
   "cell_type": "code",
   "execution_count": 12,
   "metadata": {},
   "outputs": [
    {
     "data": {
      "text/html": [
       "<div>\n",
       "<style scoped>\n",
       "    .dataframe tbody tr th:only-of-type {\n",
       "        vertical-align: middle;\n",
       "    }\n",
       "\n",
       "    .dataframe tbody tr th {\n",
       "        vertical-align: top;\n",
       "    }\n",
       "\n",
       "    .dataframe thead th {\n",
       "        text-align: right;\n",
       "    }\n",
       "</style>\n",
       "<table border=\"1\" class=\"dataframe\">\n",
       "  <thead>\n",
       "    <tr style=\"text-align: right;\">\n",
       "      <th></th>\n",
       "      <th>sampleID</th>\n",
       "      <th>patientID</th>\n",
       "      <th>age</th>\n",
       "      <th>gender</th>\n",
       "      <th>site</th>\n",
       "      <th>HPV</th>\n",
       "      <th>Tstage</th>\n",
       "      <th>NstageClin</th>\n",
       "      <th>NstagePath</th>\n",
       "      <th>smoking</th>\n",
       "      <th>smokingDetails</th>\n",
       "      <th>packyears</th>\n",
       "      <th>OStime</th>\n",
       "      <th>OSevent</th>\n",
       "      <th>dataset</th>\n",
       "      <th>NodeStatus</th>\n",
       "    </tr>\n",
       "  </thead>\n",
       "  <tbody>\n",
       "    <tr>\n",
       "      <th>0</th>\n",
       "      <td>TCGA.BA.5556.01</td>\n",
       "      <td>TCGA-BA-5556</td>\n",
       "      <td>58.0</td>\n",
       "      <td>0</td>\n",
       "      <td>OC</td>\n",
       "      <td>NaN</td>\n",
       "      <td>0.2</td>\n",
       "      <td>NaN</td>\n",
       "      <td>N0</td>\n",
       "      <td>0.0</td>\n",
       "      <td>1.0</td>\n",
       "      <td>60.0</td>\n",
       "      <td>23.82</td>\n",
       "      <td>No</td>\n",
       "      <td>TCGA</td>\n",
       "      <td>NEG</td>\n",
       "    </tr>\n",
       "    <tr>\n",
       "      <th>1</th>\n",
       "      <td>TCGA.BA.5557.01</td>\n",
       "      <td>TCGA-BA-5557</td>\n",
       "      <td>41.0</td>\n",
       "      <td>0</td>\n",
       "      <td>OC</td>\n",
       "      <td>NaN</td>\n",
       "      <td>0.2</td>\n",
       "      <td>NaN</td>\n",
       "      <td>N2</td>\n",
       "      <td>1.0</td>\n",
       "      <td>0.0</td>\n",
       "      <td>NaN</td>\n",
       "      <td>20.47</td>\n",
       "      <td>No</td>\n",
       "      <td>TCGA</td>\n",
       "      <td>POS</td>\n",
       "    </tr>\n",
       "    <tr>\n",
       "      <th>2</th>\n",
       "      <td>TCGA.BA.6873.01</td>\n",
       "      <td>TCGA-BA-6873</td>\n",
       "      <td>28.0</td>\n",
       "      <td>1</td>\n",
       "      <td>OC</td>\n",
       "      <td>NaN</td>\n",
       "      <td>0.2</td>\n",
       "      <td>NaN</td>\n",
       "      <td>N2</td>\n",
       "      <td>0.0</td>\n",
       "      <td>1.0</td>\n",
       "      <td>1.0</td>\n",
       "      <td>4.01</td>\n",
       "      <td>No</td>\n",
       "      <td>TCGA</td>\n",
       "      <td>POS</td>\n",
       "    </tr>\n",
       "    <tr>\n",
       "      <th>3</th>\n",
       "      <td>TCGA.BA.7269.01</td>\n",
       "      <td>TCGA-BA-7269</td>\n",
       "      <td>61.0</td>\n",
       "      <td>1</td>\n",
       "      <td>OC</td>\n",
       "      <td>NaN</td>\n",
       "      <td>0.2</td>\n",
       "      <td>NaN</td>\n",
       "      <td>N1</td>\n",
       "      <td>0.0</td>\n",
       "      <td>1.0</td>\n",
       "      <td>46.0</td>\n",
       "      <td>41.82</td>\n",
       "      <td>No</td>\n",
       "      <td>TCGA</td>\n",
       "      <td>POS</td>\n",
       "    </tr>\n",
       "    <tr>\n",
       "      <th>4</th>\n",
       "      <td>TCGA.BA.A6DB.01</td>\n",
       "      <td>TCGA-BA-A6DB</td>\n",
       "      <td>24.0</td>\n",
       "      <td>0</td>\n",
       "      <td>OC</td>\n",
       "      <td>Neg</td>\n",
       "      <td>0.2</td>\n",
       "      <td>NaN</td>\n",
       "      <td>N0</td>\n",
       "      <td>1.0</td>\n",
       "      <td>0.0</td>\n",
       "      <td>NaN</td>\n",
       "      <td>7.10</td>\n",
       "      <td>No</td>\n",
       "      <td>TCGA</td>\n",
       "      <td>NEG</td>\n",
       "    </tr>\n",
       "  </tbody>\n",
       "</table>\n",
       "</div>"
      ],
      "text/plain": [
       "          sampleID     patientID   age  gender site  HPV Tstage  NstageClin  \\\n",
       "0  TCGA.BA.5556.01  TCGA-BA-5556  58.0       0   OC  NaN    0.2         NaN   \n",
       "1  TCGA.BA.5557.01  TCGA-BA-5557  41.0       0   OC  NaN    0.2         NaN   \n",
       "2  TCGA.BA.6873.01  TCGA-BA-6873  28.0       1   OC  NaN    0.2         NaN   \n",
       "3  TCGA.BA.7269.01  TCGA-BA-7269  61.0       1   OC  NaN    0.2         NaN   \n",
       "4  TCGA.BA.A6DB.01  TCGA-BA-A6DB  24.0       0   OC  Neg    0.2         NaN   \n",
       "\n",
       "  NstagePath  smoking  smokingDetails  packyears  OStime OSevent dataset  \\\n",
       "0         N0      0.0             1.0       60.0   23.82      No    TCGA   \n",
       "1         N2      1.0             0.0        NaN   20.47      No    TCGA   \n",
       "2         N2      0.0             1.0        1.0    4.01      No    TCGA   \n",
       "3         N1      0.0             1.0       46.0   41.82      No    TCGA   \n",
       "4         N0      1.0             0.0        NaN    7.10      No    TCGA   \n",
       "\n",
       "  NodeStatus  \n",
       "0        NEG  \n",
       "1        POS  \n",
       "2        POS  \n",
       "3        POS  \n",
       "4        NEG  "
      ]
     },
     "execution_count": 12,
     "metadata": {},
     "output_type": "execute_result"
    }
   ],
   "source": [
    "rna_pheno.head()"
   ]
  },
  {
   "cell_type": "code",
   "execution_count": 13,
   "metadata": {},
   "outputs": [
    {
     "data": {
      "text/html": [
       "<div>\n",
       "<style scoped>\n",
       "    .dataframe tbody tr th:only-of-type {\n",
       "        vertical-align: middle;\n",
       "    }\n",
       "\n",
       "    .dataframe tbody tr th {\n",
       "        vertical-align: top;\n",
       "    }\n",
       "\n",
       "    .dataframe thead th {\n",
       "        text-align: right;\n",
       "    }\n",
       "</style>\n",
       "<table border=\"1\" class=\"dataframe\">\n",
       "  <thead>\n",
       "    <tr style=\"text-align: right;\">\n",
       "      <th></th>\n",
       "      <th>sampleID</th>\n",
       "      <th>patientID</th>\n",
       "      <th>age</th>\n",
       "      <th>gender</th>\n",
       "      <th>site</th>\n",
       "      <th>HPV</th>\n",
       "      <th>Tstage</th>\n",
       "      <th>NstageClin</th>\n",
       "      <th>NstagePath</th>\n",
       "      <th>smoking</th>\n",
       "      <th>smokingDetails</th>\n",
       "      <th>packyears</th>\n",
       "      <th>OStime</th>\n",
       "      <th>OSevent</th>\n",
       "      <th>dataset</th>\n",
       "      <th>NodeStatus</th>\n",
       "    </tr>\n",
       "  </thead>\n",
       "  <tbody>\n",
       "    <tr>\n",
       "      <th>0</th>\n",
       "      <td>323CC158-20070829-Hu133.CEL</td>\n",
       "      <td>1831</td>\n",
       "      <td>62.0</td>\n",
       "      <td>M</td>\n",
       "      <td>OC</td>\n",
       "      <td>Neg</td>\n",
       "      <td>T1</td>\n",
       "      <td>NaN</td>\n",
       "      <td>N2</td>\n",
       "      <td>YES</td>\n",
       "      <td>1</td>\n",
       "      <td>180.0</td>\n",
       "      <td>24.69</td>\n",
       "      <td>Yes</td>\n",
       "      <td>Chung</td>\n",
       "      <td>POS</td>\n",
       "    </tr>\n",
       "    <tr>\n",
       "      <th>1</th>\n",
       "      <td>2004-10-15-CHC69-Chung-Human2.0-Rep1.CEL</td>\n",
       "      <td>372</td>\n",
       "      <td>77.0</td>\n",
       "      <td>F</td>\n",
       "      <td>OC</td>\n",
       "      <td>Neg</td>\n",
       "      <td>T1</td>\n",
       "      <td>NaN</td>\n",
       "      <td>N0</td>\n",
       "      <td>NO</td>\n",
       "      <td>0</td>\n",
       "      <td>0.0</td>\n",
       "      <td>49.91</td>\n",
       "      <td>No</td>\n",
       "      <td>Chung</td>\n",
       "      <td>NEG</td>\n",
       "    </tr>\n",
       "    <tr>\n",
       "      <th>2</th>\n",
       "      <td>2004-04-22-CHC45-Chung-Human2.0-Rep1.CEL</td>\n",
       "      <td>HN97-0108B</td>\n",
       "      <td>52.0</td>\n",
       "      <td>F</td>\n",
       "      <td>OC</td>\n",
       "      <td>Neg</td>\n",
       "      <td>T2</td>\n",
       "      <td>NaN</td>\n",
       "      <td>N0</td>\n",
       "      <td>YES</td>\n",
       "      <td>1</td>\n",
       "      <td>NaN</td>\n",
       "      <td>29.75</td>\n",
       "      <td>No</td>\n",
       "      <td>Chung</td>\n",
       "      <td>NEG</td>\n",
       "    </tr>\n",
       "    <tr>\n",
       "      <th>3</th>\n",
       "      <td>2004-10-15-CHC66-Chung-Human2.0-Rep1.CEL</td>\n",
       "      <td>364</td>\n",
       "      <td>47.0</td>\n",
       "      <td>F</td>\n",
       "      <td>OC</td>\n",
       "      <td>Neg</td>\n",
       "      <td>T2</td>\n",
       "      <td>NaN</td>\n",
       "      <td>N0</td>\n",
       "      <td>YES</td>\n",
       "      <td>1</td>\n",
       "      <td>70.0</td>\n",
       "      <td>43.66</td>\n",
       "      <td>No</td>\n",
       "      <td>Chung</td>\n",
       "      <td>NEG</td>\n",
       "    </tr>\n",
       "    <tr>\n",
       "      <th>4</th>\n",
       "      <td>2004-10-15-CHC67-Chung-Human2.0-Rep1.CEL</td>\n",
       "      <td>371</td>\n",
       "      <td>69.0</td>\n",
       "      <td>M</td>\n",
       "      <td>OC</td>\n",
       "      <td>Neg</td>\n",
       "      <td>T1</td>\n",
       "      <td>NaN</td>\n",
       "      <td>N1</td>\n",
       "      <td>YES</td>\n",
       "      <td>1</td>\n",
       "      <td>63.0</td>\n",
       "      <td>9.40</td>\n",
       "      <td>Yes</td>\n",
       "      <td>Chung</td>\n",
       "      <td>POS</td>\n",
       "    </tr>\n",
       "  </tbody>\n",
       "</table>\n",
       "</div>"
      ],
      "text/plain": [
       "                                   sampleID   patientID   age gender site  \\\n",
       "0               323CC158-20070829-Hu133.CEL        1831  62.0      M   OC   \n",
       "1  2004-10-15-CHC69-Chung-Human2.0-Rep1.CEL         372  77.0      F   OC   \n",
       "2  2004-04-22-CHC45-Chung-Human2.0-Rep1.CEL  HN97-0108B  52.0      F   OC   \n",
       "3  2004-10-15-CHC66-Chung-Human2.0-Rep1.CEL         364  47.0      F   OC   \n",
       "4  2004-10-15-CHC67-Chung-Human2.0-Rep1.CEL         371  69.0      M   OC   \n",
       "\n",
       "   HPV Tstage NstageClin NstagePath smoking smokingDetails  packyears  OStime  \\\n",
       "0  Neg     T1        NaN         N2     YES              1      180.0   24.69   \n",
       "1  Neg     T1        NaN         N0      NO              0        0.0   49.91   \n",
       "2  Neg     T2        NaN         N0     YES              1        NaN   29.75   \n",
       "3  Neg     T2        NaN         N0     YES              1       70.0   43.66   \n",
       "4  Neg     T1        NaN         N1     YES              1       63.0    9.40   \n",
       "\n",
       "  OSevent dataset NodeStatus  \n",
       "0     Yes   Chung        POS  \n",
       "1      No   Chung        NEG  \n",
       "2      No   Chung        NEG  \n",
       "3      No   Chung        NEG  \n",
       "4     Yes   Chung        POS  "
      ]
     },
     "execution_count": 13,
     "metadata": {},
     "output_type": "execute_result"
    }
   ],
   "source": [
    "micro_pheno.head()"
   ]
  },
  {
   "cell_type": "code",
   "execution_count": 14,
   "metadata": {},
   "outputs": [],
   "source": [
    "micro_pheno.loc[micro_pheno['gender']=='F','gender']=0\n",
    "micro_pheno.loc[micro_pheno['gender']=='M','gender']=1\n",
    "micro_pheno.loc[micro_pheno['smoking']=='YES','smoking']=0\n",
    "micro_pheno.loc[micro_pheno['smoking']=='NO','smoking']=1\n",
    "micro_pheno.loc[micro_pheno['Tstage']=='T1','Tstage']=0.06\n",
    "micro_pheno.loc[micro_pheno['Tstage']=='T2','Tstage']=0.2"
   ]
  },
  {
   "cell_type": "code",
   "execution_count": 15,
   "metadata": {},
   "outputs": [
    {
     "data": {
      "text/html": [
       "<div>\n",
       "<style scoped>\n",
       "    .dataframe tbody tr th:only-of-type {\n",
       "        vertical-align: middle;\n",
       "    }\n",
       "\n",
       "    .dataframe tbody tr th {\n",
       "        vertical-align: top;\n",
       "    }\n",
       "\n",
       "    .dataframe thead th {\n",
       "        text-align: right;\n",
       "    }\n",
       "</style>\n",
       "<table border=\"1\" class=\"dataframe\">\n",
       "  <thead>\n",
       "    <tr style=\"text-align: right;\">\n",
       "      <th></th>\n",
       "      <th>sampleID</th>\n",
       "      <th>patientID</th>\n",
       "      <th>age</th>\n",
       "      <th>gender</th>\n",
       "      <th>site</th>\n",
       "      <th>HPV</th>\n",
       "      <th>Tstage</th>\n",
       "      <th>NstageClin</th>\n",
       "      <th>NstagePath</th>\n",
       "      <th>smoking</th>\n",
       "      <th>smokingDetails</th>\n",
       "      <th>packyears</th>\n",
       "      <th>OStime</th>\n",
       "      <th>OSevent</th>\n",
       "      <th>dataset</th>\n",
       "      <th>NodeStatus</th>\n",
       "    </tr>\n",
       "  </thead>\n",
       "  <tbody>\n",
       "    <tr>\n",
       "      <th>0</th>\n",
       "      <td>323CC158-20070829-Hu133.CEL</td>\n",
       "      <td>1831</td>\n",
       "      <td>62.0</td>\n",
       "      <td>1</td>\n",
       "      <td>OC</td>\n",
       "      <td>Neg</td>\n",
       "      <td>0.06</td>\n",
       "      <td>NaN</td>\n",
       "      <td>N2</td>\n",
       "      <td>0</td>\n",
       "      <td>1</td>\n",
       "      <td>180.0</td>\n",
       "      <td>24.69</td>\n",
       "      <td>Yes</td>\n",
       "      <td>Chung</td>\n",
       "      <td>POS</td>\n",
       "    </tr>\n",
       "    <tr>\n",
       "      <th>1</th>\n",
       "      <td>2004-10-15-CHC69-Chung-Human2.0-Rep1.CEL</td>\n",
       "      <td>372</td>\n",
       "      <td>77.0</td>\n",
       "      <td>0</td>\n",
       "      <td>OC</td>\n",
       "      <td>Neg</td>\n",
       "      <td>0.06</td>\n",
       "      <td>NaN</td>\n",
       "      <td>N0</td>\n",
       "      <td>1</td>\n",
       "      <td>0</td>\n",
       "      <td>0.0</td>\n",
       "      <td>49.91</td>\n",
       "      <td>No</td>\n",
       "      <td>Chung</td>\n",
       "      <td>NEG</td>\n",
       "    </tr>\n",
       "    <tr>\n",
       "      <th>2</th>\n",
       "      <td>2004-04-22-CHC45-Chung-Human2.0-Rep1.CEL</td>\n",
       "      <td>HN97-0108B</td>\n",
       "      <td>52.0</td>\n",
       "      <td>0</td>\n",
       "      <td>OC</td>\n",
       "      <td>Neg</td>\n",
       "      <td>0.2</td>\n",
       "      <td>NaN</td>\n",
       "      <td>N0</td>\n",
       "      <td>0</td>\n",
       "      <td>1</td>\n",
       "      <td>NaN</td>\n",
       "      <td>29.75</td>\n",
       "      <td>No</td>\n",
       "      <td>Chung</td>\n",
       "      <td>NEG</td>\n",
       "    </tr>\n",
       "    <tr>\n",
       "      <th>3</th>\n",
       "      <td>2004-10-15-CHC66-Chung-Human2.0-Rep1.CEL</td>\n",
       "      <td>364</td>\n",
       "      <td>47.0</td>\n",
       "      <td>0</td>\n",
       "      <td>OC</td>\n",
       "      <td>Neg</td>\n",
       "      <td>0.2</td>\n",
       "      <td>NaN</td>\n",
       "      <td>N0</td>\n",
       "      <td>0</td>\n",
       "      <td>1</td>\n",
       "      <td>70.0</td>\n",
       "      <td>43.66</td>\n",
       "      <td>No</td>\n",
       "      <td>Chung</td>\n",
       "      <td>NEG</td>\n",
       "    </tr>\n",
       "    <tr>\n",
       "      <th>4</th>\n",
       "      <td>2004-10-15-CHC67-Chung-Human2.0-Rep1.CEL</td>\n",
       "      <td>371</td>\n",
       "      <td>69.0</td>\n",
       "      <td>1</td>\n",
       "      <td>OC</td>\n",
       "      <td>Neg</td>\n",
       "      <td>0.06</td>\n",
       "      <td>NaN</td>\n",
       "      <td>N1</td>\n",
       "      <td>0</td>\n",
       "      <td>1</td>\n",
       "      <td>63.0</td>\n",
       "      <td>9.40</td>\n",
       "      <td>Yes</td>\n",
       "      <td>Chung</td>\n",
       "      <td>POS</td>\n",
       "    </tr>\n",
       "  </tbody>\n",
       "</table>\n",
       "</div>"
      ],
      "text/plain": [
       "                                   sampleID   patientID   age  gender site  \\\n",
       "0               323CC158-20070829-Hu133.CEL        1831  62.0       1   OC   \n",
       "1  2004-10-15-CHC69-Chung-Human2.0-Rep1.CEL         372  77.0       0   OC   \n",
       "2  2004-04-22-CHC45-Chung-Human2.0-Rep1.CEL  HN97-0108B  52.0       0   OC   \n",
       "3  2004-10-15-CHC66-Chung-Human2.0-Rep1.CEL         364  47.0       0   OC   \n",
       "4  2004-10-15-CHC67-Chung-Human2.0-Rep1.CEL         371  69.0       1   OC   \n",
       "\n",
       "   HPV Tstage NstageClin NstagePath  smoking smokingDetails  packyears  \\\n",
       "0  Neg   0.06        NaN         N2        0              1      180.0   \n",
       "1  Neg   0.06        NaN         N0        1              0        0.0   \n",
       "2  Neg    0.2        NaN         N0        0              1        NaN   \n",
       "3  Neg    0.2        NaN         N0        0              1       70.0   \n",
       "4  Neg   0.06        NaN         N1        0              1       63.0   \n",
       "\n",
       "   OStime OSevent dataset NodeStatus  \n",
       "0   24.69     Yes   Chung        POS  \n",
       "1   49.91      No   Chung        NEG  \n",
       "2   29.75      No   Chung        NEG  \n",
       "3   43.66      No   Chung        NEG  \n",
       "4    9.40     Yes   Chung        POS  "
      ]
     },
     "execution_count": 15,
     "metadata": {},
     "output_type": "execute_result"
    }
   ],
   "source": [
    "micro_pheno.head()"
   ]
  },
  {
   "cell_type": "markdown",
   "metadata": {},
   "source": [
    " **2. Process target variable 'NodeStatus'**\n",
    "\n",
    "Replacing 'NEG' negtive with zero and 'POS' positive with value one for 'NodeStatus' and combining it with gene expression dataset."
   ]
  },
  {
   "cell_type": "code",
   "execution_count": 16,
   "metadata": {},
   "outputs": [],
   "source": [
    "rna_pheno.loc[rna_pheno['NodeStatus']=='NEG','NodeStatus']=0\n",
    "rna_pheno.loc[rna_pheno['NodeStatus']=='POS','NodeStatus']=1\n",
    "rna = pd.merge(rna_pheno[['sampleID','NodeStatus','age','gender','smoking','Tstage']],rna_exprs, how = 'right', on = 'sampleID')"
   ]
  },
  {
   "cell_type": "code",
   "execution_count": 17,
   "metadata": {},
   "outputs": [
    {
     "data": {
      "text/html": [
       "<div>\n",
       "<style scoped>\n",
       "    .dataframe tbody tr th:only-of-type {\n",
       "        vertical-align: middle;\n",
       "    }\n",
       "\n",
       "    .dataframe tbody tr th {\n",
       "        vertical-align: top;\n",
       "    }\n",
       "\n",
       "    .dataframe thead th {\n",
       "        text-align: right;\n",
       "    }\n",
       "</style>\n",
       "<table border=\"1\" class=\"dataframe\">\n",
       "  <thead>\n",
       "    <tr style=\"text-align: right;\">\n",
       "      <th></th>\n",
       "      <th>sampleID</th>\n",
       "      <th>NodeStatus</th>\n",
       "      <th>age</th>\n",
       "      <th>gender</th>\n",
       "      <th>smoking</th>\n",
       "      <th>Tstage</th>\n",
       "      <th>ATOX1</th>\n",
       "      <th>SQSTM1</th>\n",
       "      <th>RPS16</th>\n",
       "      <th>TNPO2</th>\n",
       "      <th>...</th>\n",
       "      <th>MTFMT</th>\n",
       "      <th>SV2A</th>\n",
       "      <th>PICK1</th>\n",
       "      <th>NOSIP</th>\n",
       "      <th>AKR1C3</th>\n",
       "      <th>TBRG4</th>\n",
       "      <th>NTF3</th>\n",
       "      <th>DGCR6L</th>\n",
       "      <th>MDH1</th>\n",
       "      <th>ARL6IP1</th>\n",
       "    </tr>\n",
       "  </thead>\n",
       "  <tbody>\n",
       "    <tr>\n",
       "      <th>0</th>\n",
       "      <td>TCGA.BA.5556.01</td>\n",
       "      <td>0</td>\n",
       "      <td>58.0</td>\n",
       "      <td>0</td>\n",
       "      <td>0.0</td>\n",
       "      <td>0.2</td>\n",
       "      <td>9.94575</td>\n",
       "      <td>11.899</td>\n",
       "      <td>12.7862</td>\n",
       "      <td>10.6486</td>\n",
       "      <td>...</td>\n",
       "      <td>8.12371</td>\n",
       "      <td>6.61875</td>\n",
       "      <td>8.86357</td>\n",
       "      <td>9.55543</td>\n",
       "      <td>8.71182</td>\n",
       "      <td>10.4295</td>\n",
       "      <td>5.24306</td>\n",
       "      <td>9.13187</td>\n",
       "      <td>10.6861</td>\n",
       "      <td>11.6254</td>\n",
       "    </tr>\n",
       "    <tr>\n",
       "      <th>1</th>\n",
       "      <td>TCGA.BA.5557.01</td>\n",
       "      <td>1</td>\n",
       "      <td>41.0</td>\n",
       "      <td>0</td>\n",
       "      <td>1.0</td>\n",
       "      <td>0.2</td>\n",
       "      <td>10.1053</td>\n",
       "      <td>12.2682</td>\n",
       "      <td>12.8411</td>\n",
       "      <td>10.5651</td>\n",
       "      <td>...</td>\n",
       "      <td>7.96153</td>\n",
       "      <td>7.61692</td>\n",
       "      <td>9.1483</td>\n",
       "      <td>9.80784</td>\n",
       "      <td>7.64356</td>\n",
       "      <td>10.2711</td>\n",
       "      <td>6.21835</td>\n",
       "      <td>9.79971</td>\n",
       "      <td>10.7076</td>\n",
       "      <td>11.3576</td>\n",
       "    </tr>\n",
       "    <tr>\n",
       "      <th>2</th>\n",
       "      <td>TCGA.BA.6873.01</td>\n",
       "      <td>1</td>\n",
       "      <td>28.0</td>\n",
       "      <td>1</td>\n",
       "      <td>0.0</td>\n",
       "      <td>0.2</td>\n",
       "      <td>9.2086</td>\n",
       "      <td>11.7633</td>\n",
       "      <td>12.4134</td>\n",
       "      <td>10.8563</td>\n",
       "      <td>...</td>\n",
       "      <td>8.57664</td>\n",
       "      <td>6.97733</td>\n",
       "      <td>8.89312</td>\n",
       "      <td>9.54295</td>\n",
       "      <td>9.24285</td>\n",
       "      <td>10.6465</td>\n",
       "      <td>5.18638</td>\n",
       "      <td>9.03137</td>\n",
       "      <td>10.7907</td>\n",
       "      <td>11.9573</td>\n",
       "    </tr>\n",
       "    <tr>\n",
       "      <th>3</th>\n",
       "      <td>TCGA.BA.7269.01</td>\n",
       "      <td>1</td>\n",
       "      <td>61.0</td>\n",
       "      <td>1</td>\n",
       "      <td>0.0</td>\n",
       "      <td>0.2</td>\n",
       "      <td>10.9771</td>\n",
       "      <td>12.9638</td>\n",
       "      <td>13.9463</td>\n",
       "      <td>9.68729</td>\n",
       "      <td>...</td>\n",
       "      <td>8.47579</td>\n",
       "      <td>8.78659</td>\n",
       "      <td>10.377</td>\n",
       "      <td>11.6304</td>\n",
       "      <td>11.4617</td>\n",
       "      <td>10.7314</td>\n",
       "      <td>5.06173</td>\n",
       "      <td>11.6524</td>\n",
       "      <td>11.3626</td>\n",
       "      <td>10.8618</td>\n",
       "    </tr>\n",
       "    <tr>\n",
       "      <th>4</th>\n",
       "      <td>TCGA.BA.A6DB.01</td>\n",
       "      <td>0</td>\n",
       "      <td>24.0</td>\n",
       "      <td>0</td>\n",
       "      <td>1.0</td>\n",
       "      <td>0.2</td>\n",
       "      <td>10.0565</td>\n",
       "      <td>12.3889</td>\n",
       "      <td>13.1893</td>\n",
       "      <td>10.5679</td>\n",
       "      <td>...</td>\n",
       "      <td>8.20069</td>\n",
       "      <td>6.54679</td>\n",
       "      <td>9.04655</td>\n",
       "      <td>9.93023</td>\n",
       "      <td>8.50039</td>\n",
       "      <td>10.4488</td>\n",
       "      <td>5.50505</td>\n",
       "      <td>9.96116</td>\n",
       "      <td>11.3707</td>\n",
       "      <td>11.2945</td>\n",
       "    </tr>\n",
       "  </tbody>\n",
       "</table>\n",
       "<p>5 rows × 9229 columns</p>\n",
       "</div>"
      ],
      "text/plain": [
       "          sampleID  NodeStatus   age  gender  smoking Tstage    ATOX1  \\\n",
       "0  TCGA.BA.5556.01           0  58.0       0      0.0    0.2  9.94575   \n",
       "1  TCGA.BA.5557.01           1  41.0       0      1.0    0.2  10.1053   \n",
       "2  TCGA.BA.6873.01           1  28.0       1      0.0    0.2   9.2086   \n",
       "3  TCGA.BA.7269.01           1  61.0       1      0.0    0.2  10.9771   \n",
       "4  TCGA.BA.A6DB.01           0  24.0       0      1.0    0.2  10.0565   \n",
       "\n",
       "    SQSTM1    RPS16    TNPO2   ...       MTFMT     SV2A    PICK1    NOSIP  \\\n",
       "0   11.899  12.7862  10.6486   ...     8.12371  6.61875  8.86357  9.55543   \n",
       "1  12.2682  12.8411  10.5651   ...     7.96153  7.61692   9.1483  9.80784   \n",
       "2  11.7633  12.4134  10.8563   ...     8.57664  6.97733  8.89312  9.54295   \n",
       "3  12.9638  13.9463  9.68729   ...     8.47579  8.78659   10.377  11.6304   \n",
       "4  12.3889  13.1893  10.5679   ...     8.20069  6.54679  9.04655  9.93023   \n",
       "\n",
       "    AKR1C3    TBRG4     NTF3   DGCR6L     MDH1  ARL6IP1  \n",
       "0  8.71182  10.4295  5.24306  9.13187  10.6861  11.6254  \n",
       "1  7.64356  10.2711  6.21835  9.79971  10.7076  11.3576  \n",
       "2  9.24285  10.6465  5.18638  9.03137  10.7907  11.9573  \n",
       "3  11.4617  10.7314  5.06173  11.6524  11.3626  10.8618  \n",
       "4  8.50039  10.4488  5.50505  9.96116  11.3707  11.2945  \n",
       "\n",
       "[5 rows x 9229 columns]"
      ]
     },
     "execution_count": 17,
     "metadata": {},
     "output_type": "execute_result"
    }
   ],
   "source": [
    "rna.head()"
   ]
  },
  {
   "cell_type": "code",
   "execution_count": 18,
   "metadata": {},
   "outputs": [],
   "source": [
    "micro_pheno.loc[micro_pheno['NodeStatus']=='NEG','NodeStatus']=0\n",
    "micro_pheno.loc[micro_pheno['NodeStatus']=='POS','NodeStatus']=1\n",
    "micro = pd.merge(micro_pheno[['sampleID','NodeStatus','age','gender','smoking','Tstage']],micro_exprs, how = 'right', on = 'sampleID')"
   ]
  },
  {
   "cell_type": "code",
   "execution_count": 19,
   "metadata": {},
   "outputs": [
    {
     "data": {
      "text/html": [
       "<div>\n",
       "<style scoped>\n",
       "    .dataframe tbody tr th:only-of-type {\n",
       "        vertical-align: middle;\n",
       "    }\n",
       "\n",
       "    .dataframe tbody tr th {\n",
       "        vertical-align: top;\n",
       "    }\n",
       "\n",
       "    .dataframe thead th {\n",
       "        text-align: right;\n",
       "    }\n",
       "</style>\n",
       "<table border=\"1\" class=\"dataframe\">\n",
       "  <thead>\n",
       "    <tr style=\"text-align: right;\">\n",
       "      <th></th>\n",
       "      <th>sampleID</th>\n",
       "      <th>NodeStatus</th>\n",
       "      <th>age</th>\n",
       "      <th>gender</th>\n",
       "      <th>smoking</th>\n",
       "      <th>Tstage</th>\n",
       "      <th>ATOX1</th>\n",
       "      <th>SQSTM1</th>\n",
       "      <th>RPS16</th>\n",
       "      <th>TNPO2</th>\n",
       "      <th>...</th>\n",
       "      <th>MTFMT</th>\n",
       "      <th>SV2A</th>\n",
       "      <th>PICK1</th>\n",
       "      <th>NOSIP</th>\n",
       "      <th>AKR1C3</th>\n",
       "      <th>TBRG4</th>\n",
       "      <th>NTF3</th>\n",
       "      <th>DGCR6L</th>\n",
       "      <th>MDH1</th>\n",
       "      <th>ARL6IP1</th>\n",
       "    </tr>\n",
       "  </thead>\n",
       "  <tbody>\n",
       "    <tr>\n",
       "      <th>0</th>\n",
       "      <td>323CC158-20070829-Hu133.CEL</td>\n",
       "      <td>1</td>\n",
       "      <td>62.0</td>\n",
       "      <td>1</td>\n",
       "      <td>0</td>\n",
       "      <td>0.06</td>\n",
       "      <td>9.6399</td>\n",
       "      <td>11.0315</td>\n",
       "      <td>10.8971</td>\n",
       "      <td>8.3616</td>\n",
       "      <td>...</td>\n",
       "      <td>9.27375</td>\n",
       "      <td>7.01153</td>\n",
       "      <td>9.69377</td>\n",
       "      <td>10.4145</td>\n",
       "      <td>9.88823</td>\n",
       "      <td>6.89275</td>\n",
       "      <td>8.83852</td>\n",
       "      <td>9.26045</td>\n",
       "      <td>11.3013</td>\n",
       "      <td>13.2211</td>\n",
       "    </tr>\n",
       "    <tr>\n",
       "      <th>1</th>\n",
       "      <td>2004-10-15-CHC69-Chung-Human2.0-Rep1.CEL</td>\n",
       "      <td>0</td>\n",
       "      <td>77.0</td>\n",
       "      <td>0</td>\n",
       "      <td>1</td>\n",
       "      <td>0.06</td>\n",
       "      <td>11.3676</td>\n",
       "      <td>11.2965</td>\n",
       "      <td>13.1648</td>\n",
       "      <td>6.98818</td>\n",
       "      <td>...</td>\n",
       "      <td>9.27291</td>\n",
       "      <td>8.66096</td>\n",
       "      <td>9.37166</td>\n",
       "      <td>10.3302</td>\n",
       "      <td>10.5338</td>\n",
       "      <td>6.62441</td>\n",
       "      <td>8.92038</td>\n",
       "      <td>8.94885</td>\n",
       "      <td>10.6867</td>\n",
       "      <td>12.1277</td>\n",
       "    </tr>\n",
       "    <tr>\n",
       "      <th>2</th>\n",
       "      <td>2004-04-22-CHC45-Chung-Human2.0-Rep1.CEL</td>\n",
       "      <td>0</td>\n",
       "      <td>52.0</td>\n",
       "      <td>0</td>\n",
       "      <td>0</td>\n",
       "      <td>0.2</td>\n",
       "      <td>10.9193</td>\n",
       "      <td>11.3737</td>\n",
       "      <td>12.4705</td>\n",
       "      <td>7.85729</td>\n",
       "      <td>...</td>\n",
       "      <td>9.0192</td>\n",
       "      <td>8.55235</td>\n",
       "      <td>9.31403</td>\n",
       "      <td>10.194</td>\n",
       "      <td>12.6256</td>\n",
       "      <td>6.98546</td>\n",
       "      <td>9.19658</td>\n",
       "      <td>9.60062</td>\n",
       "      <td>10.4061</td>\n",
       "      <td>11.4596</td>\n",
       "    </tr>\n",
       "    <tr>\n",
       "      <th>3</th>\n",
       "      <td>2004-10-15-CHC66-Chung-Human2.0-Rep1.CEL</td>\n",
       "      <td>0</td>\n",
       "      <td>47.0</td>\n",
       "      <td>0</td>\n",
       "      <td>0</td>\n",
       "      <td>0.2</td>\n",
       "      <td>10.79</td>\n",
       "      <td>11.0299</td>\n",
       "      <td>11.9663</td>\n",
       "      <td>7.30478</td>\n",
       "      <td>...</td>\n",
       "      <td>8.95066</td>\n",
       "      <td>8.47243</td>\n",
       "      <td>9.38747</td>\n",
       "      <td>9.64656</td>\n",
       "      <td>11.4973</td>\n",
       "      <td>7.3923</td>\n",
       "      <td>9.10697</td>\n",
       "      <td>9.38208</td>\n",
       "      <td>10.8146</td>\n",
       "      <td>11.4639</td>\n",
       "    </tr>\n",
       "    <tr>\n",
       "      <th>4</th>\n",
       "      <td>2004-10-15-CHC67-Chung-Human2.0-Rep1.CEL</td>\n",
       "      <td>1</td>\n",
       "      <td>69.0</td>\n",
       "      <td>1</td>\n",
       "      <td>0</td>\n",
       "      <td>0.06</td>\n",
       "      <td>10.9971</td>\n",
       "      <td>11.1214</td>\n",
       "      <td>12.4735</td>\n",
       "      <td>7.51934</td>\n",
       "      <td>...</td>\n",
       "      <td>8.77719</td>\n",
       "      <td>8.13476</td>\n",
       "      <td>9.28385</td>\n",
       "      <td>9.72998</td>\n",
       "      <td>11.2728</td>\n",
       "      <td>5.64528</td>\n",
       "      <td>9.28758</td>\n",
       "      <td>9.33917</td>\n",
       "      <td>10.4727</td>\n",
       "      <td>11.6329</td>\n",
       "    </tr>\n",
       "  </tbody>\n",
       "</table>\n",
       "<p>5 rows × 9229 columns</p>\n",
       "</div>"
      ],
      "text/plain": [
       "                                   sampleID  NodeStatus   age  gender  \\\n",
       "0               323CC158-20070829-Hu133.CEL           1  62.0       1   \n",
       "1  2004-10-15-CHC69-Chung-Human2.0-Rep1.CEL           0  77.0       0   \n",
       "2  2004-04-22-CHC45-Chung-Human2.0-Rep1.CEL           0  52.0       0   \n",
       "3  2004-10-15-CHC66-Chung-Human2.0-Rep1.CEL           0  47.0       0   \n",
       "4  2004-10-15-CHC67-Chung-Human2.0-Rep1.CEL           1  69.0       1   \n",
       "\n",
       "   smoking Tstage    ATOX1   SQSTM1    RPS16    TNPO2   ...       MTFMT  \\\n",
       "0        0   0.06   9.6399  11.0315  10.8971   8.3616   ...     9.27375   \n",
       "1        1   0.06  11.3676  11.2965  13.1648  6.98818   ...     9.27291   \n",
       "2        0    0.2  10.9193  11.3737  12.4705  7.85729   ...      9.0192   \n",
       "3        0    0.2    10.79  11.0299  11.9663  7.30478   ...     8.95066   \n",
       "4        0   0.06  10.9971  11.1214  12.4735  7.51934   ...     8.77719   \n",
       "\n",
       "      SV2A    PICK1    NOSIP   AKR1C3    TBRG4     NTF3   DGCR6L     MDH1  \\\n",
       "0  7.01153  9.69377  10.4145  9.88823  6.89275  8.83852  9.26045  11.3013   \n",
       "1  8.66096  9.37166  10.3302  10.5338  6.62441  8.92038  8.94885  10.6867   \n",
       "2  8.55235  9.31403   10.194  12.6256  6.98546  9.19658  9.60062  10.4061   \n",
       "3  8.47243  9.38747  9.64656  11.4973   7.3923  9.10697  9.38208  10.8146   \n",
       "4  8.13476  9.28385  9.72998  11.2728  5.64528  9.28758  9.33917  10.4727   \n",
       "\n",
       "   ARL6IP1  \n",
       "0  13.2211  \n",
       "1  12.1277  \n",
       "2  11.4596  \n",
       "3  11.4639  \n",
       "4  11.6329  \n",
       "\n",
       "[5 rows x 9229 columns]"
      ]
     },
     "execution_count": 19,
     "metadata": {},
     "output_type": "execute_result"
    }
   ],
   "source": [
    "micro.head()"
   ]
  },
  {
   "cell_type": "markdown",
   "metadata": {},
   "source": [
    " **2. Train vs Validation vs Test**"
   ]
  },
  {
   "cell_type": "markdown",
   "metadata": {},
   "source": [
    "We create a function specifically to divide the data into training and test sets because of the imbalance in the target variables. Training set will further be splitted into validation and train set. "
   ]
  },
  {
   "cell_type": "code",
   "execution_count": 20,
   "metadata": {},
   "outputs": [],
   "source": [
    "def split_data(dataset):\n",
    "    random.seed(7)\n",
    "    pos = sum(dataset['NodeStatus']==1)\n",
    "    neg = sum(dataset['NodeStatus']==0)\n",
    "    index0 = list(dataset[dataset['NodeStatus']==0].index)\n",
    "    index1 = list(dataset[dataset['NodeStatus']==1].index)\n",
    "    random.shuffle(index0)\n",
    "    random.shuffle(index1)\n",
    "    test_index = index0[:round(neg*0.35)] + index1[:round(pos*0.35)]\n",
    "    random.shuffle(test_index)\n",
    "    train_index = index0[round(neg*0.35):] + index1[round(pos*0.35):]\n",
    "    random.shuffle(train_index)\n",
    "    Test = dataset.iloc[test_index]\n",
    "    Train = dataset.iloc[train_index]\n",
    "    X_test = Test.drop(['NodeStatus'],axis=1)\n",
    "    y_test = Test['NodeStatus']\n",
    "    X_train = Train.drop(['NodeStatus'],axis=1)\n",
    "    y_train = Train['NodeStatus']\n",
    "    return X_test,y_test,X_train,y_train,Train"
   ]
  },
  {
   "cell_type": "code",
   "execution_count": 21,
   "metadata": {},
   "outputs": [],
   "source": [
    "rna_X_test, rna_y_test, rna_X_train, rna_y_train, rna_Train = split_data(rna)"
   ]
  },
  {
   "cell_type": "code",
   "execution_count": 22,
   "metadata": {},
   "outputs": [],
   "source": [
    "micro_X_test, micro_y_test, micro_X_train, micro_y_train, micro_Train = split_data(micro)"
   ]
  },
  {
   "cell_type": "markdown",
   "metadata": {},
   "source": [
    "**3. Feature selection using Wilcoxon rank sum test**"
   ]
  },
  {
   "cell_type": "markdown",
   "metadata": {},
   "source": [
    "Wilcoxon rank sum test is a non-parametric method to detect differentially expressed genes and Python has already designed that test for us. After running Wilcoxon rank sum test, we have to order the gene expression by putting p-value from small to large, and select the gene with p-value as small as possible, which means the genes whose expression levels are statistically different between groups negative and groups positive. Obviously, it is more effective and helpful for our classification task. Additionally, we are planning to select various volume of subsets based on training set for RNA-seq and microarray dataset because we have no idea how many features are appropriate for our model."
   ]
  },
  {
   "cell_type": "code",
   "execution_count": 23,
   "metadata": {},
   "outputs": [
    {
     "data": {
      "text/html": [
       "<div>\n",
       "<style scoped>\n",
       "    .dataframe tbody tr th:only-of-type {\n",
       "        vertical-align: middle;\n",
       "    }\n",
       "\n",
       "    .dataframe tbody tr th {\n",
       "        vertical-align: top;\n",
       "    }\n",
       "\n",
       "    .dataframe thead th {\n",
       "        text-align: right;\n",
       "    }\n",
       "</style>\n",
       "<table border=\"1\" class=\"dataframe\">\n",
       "  <thead>\n",
       "    <tr style=\"text-align: right;\">\n",
       "      <th></th>\n",
       "      <th>sampleID</th>\n",
       "      <th>NodeStatus</th>\n",
       "      <th>age</th>\n",
       "      <th>gender</th>\n",
       "      <th>smoking</th>\n",
       "      <th>Tstage</th>\n",
       "      <th>ATOX1</th>\n",
       "      <th>SQSTM1</th>\n",
       "      <th>RPS16</th>\n",
       "      <th>TNPO2</th>\n",
       "      <th>...</th>\n",
       "      <th>MTFMT</th>\n",
       "      <th>SV2A</th>\n",
       "      <th>PICK1</th>\n",
       "      <th>NOSIP</th>\n",
       "      <th>AKR1C3</th>\n",
       "      <th>TBRG4</th>\n",
       "      <th>NTF3</th>\n",
       "      <th>DGCR6L</th>\n",
       "      <th>MDH1</th>\n",
       "      <th>ARL6IP1</th>\n",
       "    </tr>\n",
       "  </thead>\n",
       "  <tbody>\n",
       "    <tr>\n",
       "      <th>21</th>\n",
       "      <td>TCGA.CQ.6221.01</td>\n",
       "      <td>0</td>\n",
       "      <td>79.0</td>\n",
       "      <td>1</td>\n",
       "      <td>0.0</td>\n",
       "      <td>0.2</td>\n",
       "      <td>10.3946</td>\n",
       "      <td>13.404</td>\n",
       "      <td>13.1295</td>\n",
       "      <td>11.0431</td>\n",
       "      <td>...</td>\n",
       "      <td>7.9281</td>\n",
       "      <td>9.37062</td>\n",
       "      <td>8.87999</td>\n",
       "      <td>10.0897</td>\n",
       "      <td>9.50268</td>\n",
       "      <td>10.1505</td>\n",
       "      <td>8.53226</td>\n",
       "      <td>10.6897</td>\n",
       "      <td>10.7621</td>\n",
       "      <td>11.1358</td>\n",
       "    </tr>\n",
       "    <tr>\n",
       "      <th>29</th>\n",
       "      <td>TCGA.CQ.7069.01</td>\n",
       "      <td>0</td>\n",
       "      <td>77.0</td>\n",
       "      <td>0</td>\n",
       "      <td>1.0</td>\n",
       "      <td>0.2</td>\n",
       "      <td>9.04571</td>\n",
       "      <td>12.4765</td>\n",
       "      <td>11.8259</td>\n",
       "      <td>10.3315</td>\n",
       "      <td>...</td>\n",
       "      <td>8.57613</td>\n",
       "      <td>7.19497</td>\n",
       "      <td>9.12513</td>\n",
       "      <td>10.0599</td>\n",
       "      <td>9.16818</td>\n",
       "      <td>10.2307</td>\n",
       "      <td>5.65964</td>\n",
       "      <td>9.67377</td>\n",
       "      <td>10.5055</td>\n",
       "      <td>11.5646</td>\n",
       "    </tr>\n",
       "    <tr>\n",
       "      <th>76</th>\n",
       "      <td>TCGA.CV.A6JT.01</td>\n",
       "      <td>0</td>\n",
       "      <td>65.0</td>\n",
       "      <td>1</td>\n",
       "      <td>1.0</td>\n",
       "      <td>0.2</td>\n",
       "      <td>10.8761</td>\n",
       "      <td>13.0792</td>\n",
       "      <td>12.9835</td>\n",
       "      <td>10.1559</td>\n",
       "      <td>...</td>\n",
       "      <td>8.37374</td>\n",
       "      <td>6.99993</td>\n",
       "      <td>9.70611</td>\n",
       "      <td>11.3241</td>\n",
       "      <td>9.56146</td>\n",
       "      <td>11.2523</td>\n",
       "      <td>5.65754</td>\n",
       "      <td>10.4873</td>\n",
       "      <td>10.8704</td>\n",
       "      <td>10.6048</td>\n",
       "    </tr>\n",
       "    <tr>\n",
       "      <th>24</th>\n",
       "      <td>TCGA.CQ.6228.01</td>\n",
       "      <td>1</td>\n",
       "      <td>71.0</td>\n",
       "      <td>0</td>\n",
       "      <td>0.0</td>\n",
       "      <td>0.2</td>\n",
       "      <td>9.26086</td>\n",
       "      <td>13.7985</td>\n",
       "      <td>13.2273</td>\n",
       "      <td>11.055</td>\n",
       "      <td>...</td>\n",
       "      <td>8.79656</td>\n",
       "      <td>7.25451</td>\n",
       "      <td>8.59812</td>\n",
       "      <td>9.65167</td>\n",
       "      <td>12.4823</td>\n",
       "      <td>10.3318</td>\n",
       "      <td>4.41721</td>\n",
       "      <td>9.85008</td>\n",
       "      <td>11.328</td>\n",
       "      <td>12.231</td>\n",
       "    </tr>\n",
       "    <tr>\n",
       "      <th>48</th>\n",
       "      <td>TCGA.CV.6942.01</td>\n",
       "      <td>0</td>\n",
       "      <td>73.0</td>\n",
       "      <td>0</td>\n",
       "      <td>1.0</td>\n",
       "      <td>0.2</td>\n",
       "      <td>10.2662</td>\n",
       "      <td>12.142</td>\n",
       "      <td>13.3961</td>\n",
       "      <td>10.4402</td>\n",
       "      <td>...</td>\n",
       "      <td>8.1584</td>\n",
       "      <td>7.03479</td>\n",
       "      <td>8.56382</td>\n",
       "      <td>10.4551</td>\n",
       "      <td>8.01278</td>\n",
       "      <td>10.6864</td>\n",
       "      <td>5.9598</td>\n",
       "      <td>10.0269</td>\n",
       "      <td>10.9737</td>\n",
       "      <td>11.9592</td>\n",
       "    </tr>\n",
       "  </tbody>\n",
       "</table>\n",
       "<p>5 rows × 9229 columns</p>\n",
       "</div>"
      ],
      "text/plain": [
       "           sampleID  NodeStatus   age  gender  smoking Tstage    ATOX1  \\\n",
       "21  TCGA.CQ.6221.01           0  79.0       1      0.0    0.2  10.3946   \n",
       "29  TCGA.CQ.7069.01           0  77.0       0      1.0    0.2  9.04571   \n",
       "76  TCGA.CV.A6JT.01           0  65.0       1      1.0    0.2  10.8761   \n",
       "24  TCGA.CQ.6228.01           1  71.0       0      0.0    0.2  9.26086   \n",
       "48  TCGA.CV.6942.01           0  73.0       0      1.0    0.2  10.2662   \n",
       "\n",
       "     SQSTM1    RPS16    TNPO2   ...       MTFMT     SV2A    PICK1    NOSIP  \\\n",
       "21   13.404  13.1295  11.0431   ...      7.9281  9.37062  8.87999  10.0897   \n",
       "29  12.4765  11.8259  10.3315   ...     8.57613  7.19497  9.12513  10.0599   \n",
       "76  13.0792  12.9835  10.1559   ...     8.37374  6.99993  9.70611  11.3241   \n",
       "24  13.7985  13.2273   11.055   ...     8.79656  7.25451  8.59812  9.65167   \n",
       "48   12.142  13.3961  10.4402   ...      8.1584  7.03479  8.56382  10.4551   \n",
       "\n",
       "     AKR1C3    TBRG4     NTF3   DGCR6L     MDH1  ARL6IP1  \n",
       "21  9.50268  10.1505  8.53226  10.6897  10.7621  11.1358  \n",
       "29  9.16818  10.2307  5.65964  9.67377  10.5055  11.5646  \n",
       "76  9.56146  11.2523  5.65754  10.4873  10.8704  10.6048  \n",
       "24  12.4823  10.3318  4.41721  9.85008   11.328   12.231  \n",
       "48  8.01278  10.6864   5.9598  10.0269  10.9737  11.9592  \n",
       "\n",
       "[5 rows x 9229 columns]"
      ]
     },
     "execution_count": 23,
     "metadata": {},
     "output_type": "execute_result"
    }
   ],
   "source": [
    "rna_Train.head()"
   ]
  },
  {
   "cell_type": "code",
   "execution_count": 24,
   "metadata": {},
   "outputs": [],
   "source": [
    "def detect_genes(dataset):\n",
    "    stat = []\n",
    "    pval = []\n",
    "    for i in range(6,dataset.shape[1]):\n",
    "        data0 = dataset[dataset['NodeStatus']==0].iloc[:,[i]].values\n",
    "        data1 = dataset[dataset['NodeStatus']==1].iloc[:,[i]].values\n",
    "        stat.append([scipy.stats.mannwhitneyu(data0,data1)[0],i])\n",
    "        pval.append([scipy.stats.mannwhitneyu(data0,data1)[1],i])\n",
    "    return stat, pval\n",
    "\n",
    "## When the number of observation in each sample is > 20 and you have 2 independent samples of ranks, scipy.stats.mannwhitneyu \n",
    "## will perform better than scipy.stats.ranksums, but basically they are the same."
   ]
  },
  {
   "cell_type": "code",
   "execution_count": 25,
   "metadata": {},
   "outputs": [],
   "source": [
    "stat_rna, pval_rna = detect_genes(rna_Train)"
   ]
  },
  {
   "cell_type": "code",
   "execution_count": 26,
   "metadata": {},
   "outputs": [],
   "source": [
    "stat_micro, pval_micro = detect_genes(micro_Train)"
   ]
  },
  {
   "cell_type": "markdown",
   "metadata": {},
   "source": [
    "**4. According to test result, we could select any different number of features which directly affects the performance of the model. Consequently, It should be considered the number of features as a hyper-parameter and using cross-validation to determine the precise value.**\n"
   ]
  },
  {
   "cell_type": "code",
   "execution_count": 27,
   "metadata": {},
   "outputs": [],
   "source": [
    "def gene_subset(dataset,pval,num):\n",
    "    pval_sort = sorted(pval)[:num]\n",
    "    index = []\n",
    "    for i in range(num):\n",
    "        index.append(pval_sort[i][1])\n",
    "    index.extend([1,2,3,4])\n",
    "    subset = dataset.iloc[:,index]\n",
    "    return subset"
   ]
  },
  {
   "cell_type": "code",
   "execution_count": 28,
   "metadata": {},
   "outputs": [
    {
     "name": "stdout",
     "output_type": "stream",
     "text": [
      "The first 20 most differentially expressed genes set for RNA-seq dataset includes:\n",
      "['ATG9A', 'BCL11A', 'BET1L', 'CCDC124', 'CLDN15', 'FPR1', 'HAP1', 'MAP3K6', 'MRPL45', 'MYO1C', 'NFIB', 'OGFOD2', 'RANBP10', 'RBM4B', 'RNF5', 'SLTM', 'TPCN2', 'Tstage', 'USP8', 'ZNF358', 'ZNF512B', 'age', 'gender', 'smoking']\n"
     ]
    }
   ],
   "source": [
    "print('The first 20 most differentially expressed genes set for RNA-seq dataset includes:')\n",
    "print(sorted(gene_subset(rna_X_train,pval_rna,20).columns))"
   ]
  },
  {
   "cell_type": "code",
   "execution_count": 29,
   "metadata": {},
   "outputs": [
    {
     "name": "stdout",
     "output_type": "stream",
     "text": [
      "The first 20 most differentially expressed genes set for Microarray dataset includes:\n",
      "['ADAM28', 'AP2M1', 'AQP1', 'ATP11C', 'COX7A2', 'DAAM2', 'ETFB', 'GNA15', 'ID3', 'KDELR3', 'LAMC1', 'MYO9A', 'NNT', 'OPN3', 'PCNA', 'PURB', 'RBM38', 'STEAP1', 'Tstage', 'UBQLN1', 'YTHDF2', 'age', 'gender', 'smoking']\n"
     ]
    }
   ],
   "source": [
    "print('The first 20 most differentially expressed genes set for Microarray dataset includes:')\n",
    "print(sorted(gene_subset(micro_X_train,pval_micro,20).columns))"
   ]
  },
  {
   "cell_type": "markdown",
   "metadata": {},
   "source": [
    "From above detection results, we can find that for these two datasets, their differentially expressed genes at least the first 20 genes are totally different. Consequently, we could not directly integrate gene expression profiles across two different platforms. Since there's no requirement to combine them together, we will build models for these two different datasets, respectively."
   ]
  },
  {
   "cell_type": "markdown",
   "metadata": {},
   "source": [
    "**5. Visualize some of the important features.**"
   ]
  },
  {
   "cell_type": "code",
   "execution_count": 30,
   "metadata": {},
   "outputs": [
    {
     "name": "stdout",
     "output_type": "stream",
     "text": [
      "Distributions of the first 16 differentially expressed genes based on RNA-seq training data.\n",
      "------------------------------------------------------------------------------------------\n"
     ]
    },
    {
     "data": {
      "image/png": "[encoded data removed]",
      "text/plain": [
       "<Figure size 432x288 with 20 Axes>"
      ]
     },
     "metadata": {},
     "output_type": "display_data"
    }
   ],
   "source": [
    "print('Distributions of the first 16 differentially expressed genes based on RNA-seq training data.')\n",
    "print('-'*90)\n",
    "rna_subset_16 = gene_subset(rna_X_train,pval_rna,16)\n",
    "rna_subset_16 = rna_subset_16.astype(float)\n",
    "rna_subset_16.hist();\n",
    "plt.tight_layout()"
   ]
  },
  {
   "cell_type": "code",
   "execution_count": 31,
   "metadata": {},
   "outputs": [
    {
     "name": "stdout",
     "output_type": "stream",
     "text": [
      "Distributions of the first 16 differentially expressed genes based on microarray training data.\n",
      "------------------------------------------------------------------------------------------\n"
     ]
    },
    {
     "data": {
      "image/png": "[encoded data removed]",
      "text/plain": [
       "<Figure size 432x288 with 20 Axes>"
      ]
     },
     "metadata": {},
     "output_type": "display_data"
    }
   ],
   "source": [
    "print('Distributions of the first 16 differentially expressed genes based on microarray training data.')\n",
    "print('-'*90)\n",
    "micro_subset_16 = gene_subset(micro_X_train,pval_micro,16)\n",
    "micro_subset_16 = micro_subset_16.astype(float)\n",
    "micro_subset_16.hist();\n",
    "plt.tight_layout()"
   ]
  },
  {
   "cell_type": "markdown",
   "metadata": {},
   "source": [
    "**6. Feature scaling**"
   ]
  },
  {
   "cell_type": "markdown",
   "metadata": {},
   "source": [
    "From the distributions of some features, we could find that it seems like they all fall into the same magnitude which is good. However, some of algorithms may be sensitive to it for example Support Vector Machines. I tend to standardize features by removing the mean and scaling to unit variance.\n",
    "\n"
   ]
  },
  {
   "cell_type": "code",
   "execution_count": 32,
   "metadata": {},
   "outputs": [],
   "source": [
    "def standprocess(train,test):\n",
    "    stdSc = StandardScaler()\n",
    "    train = stdSc.fit_transform(train)\n",
    "    test = stdSc.transform(test)\n",
    "    return train, test"
   ]
  },
  {
   "cell_type": "code",
   "execution_count": 33,
   "metadata": {},
   "outputs": [],
   "source": [
    "rnas = rna_subset_16\n",
    "micros = micro_subset_16\n",
    "train_rna_16, train_micro_16 = standprocess(rnas,micros)"
   ]
  },
  {
   "cell_type": "code",
   "execution_count": 34,
   "metadata": {},
   "outputs": [
    {
     "name": "stdout",
     "output_type": "stream",
     "text": [
      "Distributions of the first 16 differentially expressed genes after scaling based on RNA-seq training data.\n",
      "--------------------------------------------------------------------------------------------------------------\n"
     ]
    },
    {
     "data": {
      "image/png": "[encoded data removed]",
      "text/plain": [
       "<Figure size 432x288 with 20 Axes>"
      ]
     },
     "metadata": {},
     "output_type": "display_data"
    }
   ],
   "source": [
    "print('Distributions of the first 16 differentially expressed genes after scaling based on RNA-seq training data.')\n",
    "print('-'*110)\n",
    "train_rna_16 = pd.DataFrame(train_rna_16)\n",
    "train_rna_16.columns =  list(rna_subset_16.columns)\n",
    "train_rna_16.hist();\n",
    "plt.tight_layout()"
   ]
  },
  {
   "cell_type": "code",
   "execution_count": 35,
   "metadata": {},
   "outputs": [
    {
     "name": "stdout",
     "output_type": "stream",
     "text": [
      "Distributions of the first 16 differentially expressed genes after scaling based on microarray training data.\n",
      "--------------------------------------------------------------------------------------------------------------\n"
     ]
    },
    {
     "data": {
      "image/png": "[encoded data removed]",
      "text/plain": [
       "<Figure size 432x288 with 20 Axes>"
      ]
     },
     "metadata": {},
     "output_type": "display_data"
    }
   ],
   "source": [
    "print('Distributions of the first 16 differentially expressed genes after scaling based on microarray training data.')\n",
    "print('-'*110)\n",
    "train_micro_16 = pd.DataFrame(train_micro_16)\n",
    "train_micro_16.columns =  list(micro_subset_16.columns)\n",
    "train_micro_16.hist();\n",
    "plt.tight_layout()"
   ]
  },
  {
   "cell_type": "markdown",
   "metadata": {},
   "source": [
    "### Short-List Promising Models"
   ]
  },
  {
   "cell_type": "code",
   "execution_count": 36,
   "metadata": {},
   "outputs": [],
   "source": [
    "#Validation function\n",
    "n_folds = 5\n",
    "def rmsle_cv(model,x_train,y_train):\n",
    "    kf = KFold(n_folds, shuffle=True, random_state=777).get_n_splits(x_train)\n",
    "    auc_score= np.mean(cross_val_score(model, x_train, y_train, cv = kf,scoring='roc_auc'))\n",
    "    return(auc_score)"
   ]
  },
  {
   "cell_type": "code",
   "execution_count": 37,
   "metadata": {},
   "outputs": [],
   "source": [
    "DT = DecisionTreeClassifier(random_state=777)\n",
    "svm = SVC(probability = True)\n",
    "rf = RandomForestClassifier(random_state=777,class_weight='balanced')\n",
    "knn = KNeighborsClassifier()\n",
    "ada =  AdaBoostClassifier(random_state=777)\n",
    "lr = LogisticRegression(random_state=777)"
   ]
  },
  {
   "cell_type": "code",
   "execution_count": 38,
   "metadata": {},
   "outputs": [],
   "source": [
    "x_train_m = gene_subset(micro_X_train,pval_micro,250)\n",
    "x_train_r = gene_subset(rna_X_train,pval_rna,250)"
   ]
  },
  {
   "cell_type": "code",
   "execution_count": 39,
   "metadata": {},
   "outputs": [
    {
     "name": "stdout",
     "output_type": "stream",
     "text": [
      "\n",
      "Decision Tree Auc score on microarray dataset: 0.4875)\n",
      "Decision Tree Auc score on RNA-seq dataset: 0.4067)\n"
     ]
    }
   ],
   "source": [
    "scorem = rmsle_cv(DT,x_train_m,micro_y_train)\n",
    "print(\"\\nDecision Tree Auc score on microarray dataset: {:.4f})\".format(scorem.mean()))\n",
    "scorer = rmsle_cv(DT,x_train_r,rna_y_train)\n",
    "print(\"Decision Tree Auc score on RNA-seq dataset: {:.4f})\".format(scorer.mean()))"
   ]
  },
  {
   "cell_type": "code",
   "execution_count": 40,
   "metadata": {},
   "outputs": [
    {
     "name": "stdout",
     "output_type": "stream",
     "text": [
      "\n",
      "Support Vector Machine Auc score on microarray dataset: 0.3569\n",
      "Support Vector Machine Auc score on RNA-seq dataset: 0.6082\n"
     ]
    }
   ],
   "source": [
    "scorem = rmsle_cv(svm,x_train_m,micro_y_train)\n",
    "print(\"\\nSupport Vector Machine Auc score on microarray dataset: {:.4f}\".format(scorem.mean()))\n",
    "scorer = rmsle_cv(svm,x_train_r,rna_y_train)\n",
    "print(\"Support Vector Machine Auc score on RNA-seq dataset: {:.4f}\".format(scorer.mean()))"
   ]
  },
  {
   "cell_type": "code",
   "execution_count": 41,
   "metadata": {},
   "outputs": [
    {
     "name": "stdout",
     "output_type": "stream",
     "text": [
      "\n",
      "Random Forest Auc score on microarray dataset: 0.3690\n",
      "Random Forest Auc score on RNA-seq dataset: 0.4242\n"
     ]
    }
   ],
   "source": [
    "scorem = rmsle_cv(rf,x_train_m,micro_y_train)\n",
    "print(\"\\nRandom Forest Auc score on microarray dataset: {:.4f}\".format(scorem.mean()))\n",
    "scorer = rmsle_cv(rf,x_train_r,rna_y_train)\n",
    "print(\"Random Forest Auc score on RNA-seq dataset: {:.4f}\".format(scorer.mean()))"
   ]
  },
  {
   "cell_type": "code",
   "execution_count": 42,
   "metadata": {},
   "outputs": [
    {
     "name": "stdout",
     "output_type": "stream",
     "text": [
      "\n",
      "k-nearest neighbors Auc score on microarray dataset: 0.4623\n",
      "k-nearest neighbors Auc score on RNA-seq dataset: 0.5273\n"
     ]
    }
   ],
   "source": [
    "scorem = rmsle_cv(knn,x_train_m,micro_y_train)\n",
    "print(\"\\nk-nearest neighbors Auc score on microarray dataset: {:.4f}\".format(scorem.mean()))\n",
    "scorer = rmsle_cv(knn,x_train_r,rna_y_train)\n",
    "print(\"k-nearest neighbors Auc score on RNA-seq dataset: {:.4f}\".format(scorer.mean()))"
   ]
  },
  {
   "cell_type": "code",
   "execution_count": 43,
   "metadata": {},
   "outputs": [
    {
     "name": "stdout",
     "output_type": "stream",
     "text": [
      "\n",
      "Adaboost Auc score on microarray dataset: 0.4139\n",
      "Adaboost Auc score on RNA-seq dataset: 0.4373\n"
     ]
    }
   ],
   "source": [
    "scorem = rmsle_cv(ada,x_train_m,micro_y_train)\n",
    "print(\"\\nAdaboost Auc score on microarray dataset: {:.4f}\".format(scorem.mean()))\n",
    "scorer = rmsle_cv(ada,x_train_r,rna_y_train)\n",
    "print(\"Adaboost Auc score on RNA-seq dataset: {:.4f}\".format(scorer.mean()))"
   ]
  },
  {
   "cell_type": "code",
   "execution_count": 44,
   "metadata": {},
   "outputs": [
    {
     "name": "stdout",
     "output_type": "stream",
     "text": [
      "\n",
      "Logistic Regression Auc score on microarray dataset: 0.4731\n",
      "Logistic Regression Auc score on RNA-seq dataset: 0.5512\n"
     ]
    }
   ],
   "source": [
    "scorem = rmsle_cv(lr,x_train_m, micro_y_train)\n",
    "print(\"\\nLogistic Regression Auc score on microarray dataset: {:.4f}\".format(scorem.mean()))\n",
    "scorer = rmsle_cv(lr,x_train_r, rna_y_train)\n",
    "print(\"Logistic Regression Auc score on RNA-seq dataset: {:.4f}\".format(scorer.mean()))"
   ]
  },
  {
   "cell_type": "markdown",
   "metadata": {},
   "source": [
    "We try many quick and dirty models from different categories using standard parameters. After measuring and comparing their performance, we plan to pick Random Forest, Logistic Regression and KNN alogrithms because they are fitting well now and seem like promising models after fine tuning the hyperparameters. Since the number of data instances is relatively small, we do not need to consider running time and space. I will use **GridSearchCV** function to tweak parameters."
   ]
  },
  {
   "cell_type": "markdown",
   "metadata": {},
   "source": [
    "### Fine-Tune the System"
   ]
  },
  {
   "cell_type": "markdown",
   "metadata": {},
   "source": [
    "In this part, we will use grid search cross-validation method to tweak the hyper-parameters for different models based on two different datasets and pick the best model with the best subset of genes to make prediction on the test set. Then plot the ROC curve and return the specificity on the test dataset that can be achieved while maintaining 80% sensitivity for each case."
   ]
  },
  {
   "cell_type": "code",
   "execution_count": 45,
   "metadata": {},
   "outputs": [],
   "source": [
    "def Gridsearchcv(x_train,y_train,model,param,cv_num):\n",
    "    # random search + cross validation\n",
    "    gridsearch = GridSearchCV(model,param,cv = cv_num,scoring='roc_auc',n_jobs = 7)\n",
    "    # train model in train set\n",
    "    gridsearch.fit(x_train,y_train)\n",
    "    # return search results for each case\n",
    "    result = gridsearch.cv_results_\n",
    "    for mean_score, params in zip(result[\"mean_test_score\"], result[\"params\"]):\n",
    "        print(np.mean(mean_score), params)\n",
    "    # get the best estimator\n",
    "    best_model = gridsearch.best_estimator_\n",
    "    print('Best model:\\n')\n",
    "    print(best_model)\n",
    "    print('\\n Optimal parameters:')\n",
    "    print(gridsearch.best_params_)\n",
    "    best_model.fit(x_train,y_train)\n",
    "    return best_model"
   ]
  },
  {
   "cell_type": "code",
   "execution_count": 46,
   "metadata": {},
   "outputs": [],
   "source": [
    "def ROC_curve(x_train,y_train,x_test,y_test,model):\n",
    "    fprs = []\n",
    "    tprs = []\n",
    "    threshold = []\n",
    "    # use model fit training data\n",
    "    model.fit(x_train,y_train)\n",
    "    y_train_pred = model.predict_proba(x_train)\n",
    "    # compute tpr, fpr to plot ROC curve for training set\n",
    "    fpr_train, tpr_train, thresholds = roc_curve(y_train, y_train_pred[:,1])\n",
    "    roc_auc_train = auc(fpr_train, tpr_train)\n",
    "    # use model predict test data\n",
    "    y_pred = model.predict_proba(x_test)\n",
    "    y_preds = model.predict(x_test)\n",
    "    # compute tpr, fpr to plot ROC curve for test set\n",
    "    fpr_test, tpr_test, thresholds = roc_curve(y_test, y_pred[:,1])\n",
    "    fprs.append(fpr_test)\n",
    "    tprs.append(tpr_test)\n",
    "    threshold.append(thresholds)\n",
    "    roc_auc_test = auc(fpr_test, tpr_test)\n",
    "    # Plot ROC curve and compare them\n",
    "    plt.plot(fpr_train, tpr_train,  linewidth=2, label='Train AUC = %0.2f'% roc_auc_train);\n",
    "    plt.plot(fpr_test, tpr_test, linewidth=2, label='Test AUC = %0.2f'% roc_auc_test)\n",
    "    plt.title(\"Receiving Operating Characteristic\")\n",
    "    plt.legend(loc=\"lower right\")\n",
    "    plt.plot([0, 1], [0, 1], 'r--')\n",
    "    plt.axis([0, 1, 0, 1])\n",
    "    plt.xlabel('False Positive Rate')\n",
    "    plt.ylabel('True Positive Rate')\n",
    "    plt.show()\n",
    "    return tprs, fprs, threshold"
   ]
  },
  {
   "cell_type": "markdown",
   "metadata": {},
   "source": [
    "**1. Random Forest**"
   ]
  },
  {
   "cell_type": "markdown",
   "metadata": {},
   "source": [
    "- Tuning parameters based on microarray datset with the first 80 differentially expressed genes."
   ]
  },
  {
   "cell_type": "code",
   "execution_count": 47,
   "metadata": {},
   "outputs": [],
   "source": [
    "## Microarray dataset \n",
    "train_m = gene_subset(micro_X_train,pval_micro,80)\n",
    "test_m = gene_subset(micro_X_test,pval_micro,80)\n",
    "train_M, test_M = standprocess(train_m, test_m)"
   ]
  },
  {
   "cell_type": "code",
   "execution_count": 48,
   "metadata": {},
   "outputs": [
    {
     "name": "stdout",
     "output_type": "stream",
     "text": [
      "Grid search results based on microarray dataset:\n",
      "\n",
      "0.294194390084801 {'class_weight': {0: 0.4, 1: 0.6}, 'max_depth': 10, 'min_samples_leaf': 5, 'min_samples_split': 2, 'n_estimators': 200}\n",
      "0.30156555772994126 {'class_weight': {0: 0.4, 1: 0.6}, 'max_depth': 10, 'min_samples_leaf': 5, 'min_samples_split': 2, 'n_estimators': 300}\n",
      "0.294194390084801 {'class_weight': {0: 0.4, 1: 0.6}, 'max_depth': 10, 'min_samples_leaf': 5, 'min_samples_split': 5, 'n_estimators': 200}\n",
      "0.30156555772994126 {'class_weight': {0: 0.4, 1: 0.6}, 'max_depth': 10, 'min_samples_leaf': 5, 'min_samples_split': 5, 'n_estimators': 300}\n",
      "0.29217221135029353 {'class_weight': {0: 0.4, 1: 0.6}, 'max_depth': 10, 'min_samples_leaf': 7, 'min_samples_split': 2, 'n_estimators': 200}\n",
      "0.3060665362035225 {'class_weight': {0: 0.4, 1: 0.6}, 'max_depth': 10, 'min_samples_leaf': 7, 'min_samples_split': 2, 'n_estimators': 300}\n",
      "0.29217221135029353 {'class_weight': {0: 0.4, 1: 0.6}, 'max_depth': 10, 'min_samples_leaf': 7, 'min_samples_split': 5, 'n_estimators': 200}\n",
      "0.3060665362035225 {'class_weight': {0: 0.4, 1: 0.6}, 'max_depth': 10, 'min_samples_leaf': 7, 'min_samples_split': 5, 'n_estimators': 300}\n",
      "0.294194390084801 {'class_weight': {0: 0.4, 1: 0.6}, 'max_depth': 20, 'min_samples_leaf': 5, 'min_samples_split': 2, 'n_estimators': 200}\n",
      "0.30156555772994126 {'class_weight': {0: 0.4, 1: 0.6}, 'max_depth': 20, 'min_samples_leaf': 5, 'min_samples_split': 2, 'n_estimators': 300}\n",
      "0.294194390084801 {'class_weight': {0: 0.4, 1: 0.6}, 'max_depth': 20, 'min_samples_leaf': 5, 'min_samples_split': 5, 'n_estimators': 200}\n",
      "0.30156555772994126 {'class_weight': {0: 0.4, 1: 0.6}, 'max_depth': 20, 'min_samples_leaf': 5, 'min_samples_split': 5, 'n_estimators': 300}\n",
      "0.29217221135029353 {'class_weight': {0: 0.4, 1: 0.6}, 'max_depth': 20, 'min_samples_leaf': 7, 'min_samples_split': 2, 'n_estimators': 200}\n",
      "0.3060665362035225 {'class_weight': {0: 0.4, 1: 0.6}, 'max_depth': 20, 'min_samples_leaf': 7, 'min_samples_split': 2, 'n_estimators': 300}\n",
      "0.29217221135029353 {'class_weight': {0: 0.4, 1: 0.6}, 'max_depth': 20, 'min_samples_leaf': 7, 'min_samples_split': 5, 'n_estimators': 200}\n",
      "0.3060665362035225 {'class_weight': {0: 0.4, 1: 0.6}, 'max_depth': 20, 'min_samples_leaf': 7, 'min_samples_split': 5, 'n_estimators': 300}\n",
      "0.30130463144161773 {'class_weight': {0: 0.42, 1: 0.58}, 'max_depth': 10, 'min_samples_leaf': 5, 'min_samples_split': 2, 'n_estimators': 200}\n",
      "0.3225701239399869 {'class_weight': {0: 0.42, 1: 0.58}, 'max_depth': 10, 'min_samples_leaf': 5, 'min_samples_split': 2, 'n_estimators': 300}\n",
      "0.30130463144161773 {'class_weight': {0: 0.42, 1: 0.58}, 'max_depth': 10, 'min_samples_leaf': 5, 'min_samples_split': 5, 'n_estimators': 200}\n",
      "0.3225701239399869 {'class_weight': {0: 0.42, 1: 0.58}, 'max_depth': 10, 'min_samples_leaf': 5, 'min_samples_split': 5, 'n_estimators': 300}\n",
      "0.29432485322896285 {'class_weight': {0: 0.42, 1: 0.58}, 'max_depth': 10, 'min_samples_leaf': 7, 'min_samples_split': 2, 'n_estimators': 200}\n",
      "0.3153294194390085 {'class_weight': {0: 0.42, 1: 0.58}, 'max_depth': 10, 'min_samples_leaf': 7, 'min_samples_split': 2, 'n_estimators': 300}\n",
      "0.29432485322896285 {'class_weight': {0: 0.42, 1: 0.58}, 'max_depth': 10, 'min_samples_leaf': 7, 'min_samples_split': 5, 'n_estimators': 200}\n",
      "0.3153294194390085 {'class_weight': {0: 0.42, 1: 0.58}, 'max_depth': 10, 'min_samples_leaf': 7, 'min_samples_split': 5, 'n_estimators': 300}\n",
      "0.30130463144161773 {'class_weight': {0: 0.42, 1: 0.58}, 'max_depth': 20, 'min_samples_leaf': 5, 'min_samples_split': 2, 'n_estimators': 200}\n",
      "0.3225701239399869 {'class_weight': {0: 0.42, 1: 0.58}, 'max_depth': 20, 'min_samples_leaf': 5, 'min_samples_split': 2, 'n_estimators': 300}\n",
      "0.30130463144161773 {'class_weight': {0: 0.42, 1: 0.58}, 'max_depth': 20, 'min_samples_leaf': 5, 'min_samples_split': 5, 'n_estimators': 200}\n",
      "0.3225701239399869 {'class_weight': {0: 0.42, 1: 0.58}, 'max_depth': 20, 'min_samples_leaf': 5, 'min_samples_split': 5, 'n_estimators': 300}\n",
      "0.29432485322896285 {'class_weight': {0: 0.42, 1: 0.58}, 'max_depth': 20, 'min_samples_leaf': 7, 'min_samples_split': 2, 'n_estimators': 200}\n",
      "0.3153294194390085 {'class_weight': {0: 0.42, 1: 0.58}, 'max_depth': 20, 'min_samples_leaf': 7, 'min_samples_split': 2, 'n_estimators': 300}\n",
      "0.29432485322896285 {'class_weight': {0: 0.42, 1: 0.58}, 'max_depth': 20, 'min_samples_leaf': 7, 'min_samples_split': 5, 'n_estimators': 200}\n",
      "0.3153294194390085 {'class_weight': {0: 0.42, 1: 0.58}, 'max_depth': 20, 'min_samples_leaf': 7, 'min_samples_split': 5, 'n_estimators': 300}\n",
      "0.3084801043705153 {'class_weight': {0: 0.45, 1: 0.55}, 'max_depth': 10, 'min_samples_leaf': 5, 'min_samples_split': 2, 'n_estimators': 200}\n",
      "0.3130463144161775 {'class_weight': {0: 0.45, 1: 0.55}, 'max_depth': 10, 'min_samples_leaf': 5, 'min_samples_split': 2, 'n_estimators': 300}\n",
      "0.3084801043705153 {'class_weight': {0: 0.45, 1: 0.55}, 'max_depth': 10, 'min_samples_leaf': 5, 'min_samples_split': 5, 'n_estimators': 200}\n",
      "0.3130463144161775 {'class_weight': {0: 0.45, 1: 0.55}, 'max_depth': 10, 'min_samples_leaf': 5, 'min_samples_split': 5, 'n_estimators': 300}\n",
      "0.2898238747553816 {'class_weight': {0: 0.45, 1: 0.55}, 'max_depth': 10, 'min_samples_leaf': 7, 'min_samples_split': 2, 'n_estimators': 200}\n",
      "0.3037834311806914 {'class_weight': {0: 0.45, 1: 0.55}, 'max_depth': 10, 'min_samples_leaf': 7, 'min_samples_split': 2, 'n_estimators': 300}\n",
      "0.2898238747553816 {'class_weight': {0: 0.45, 1: 0.55}, 'max_depth': 10, 'min_samples_leaf': 7, 'min_samples_split': 5, 'n_estimators': 200}\n",
      "0.3037834311806914 {'class_weight': {0: 0.45, 1: 0.55}, 'max_depth': 10, 'min_samples_leaf': 7, 'min_samples_split': 5, 'n_estimators': 300}\n",
      "0.3084801043705153 {'class_weight': {0: 0.45, 1: 0.55}, 'max_depth': 20, 'min_samples_leaf': 5, 'min_samples_split': 2, 'n_estimators': 200}\n",
      "0.3130463144161775 {'class_weight': {0: 0.45, 1: 0.55}, 'max_depth': 20, 'min_samples_leaf': 5, 'min_samples_split': 2, 'n_estimators': 300}\n",
      "0.3084801043705153 {'class_weight': {0: 0.45, 1: 0.55}, 'max_depth': 20, 'min_samples_leaf': 5, 'min_samples_split': 5, 'n_estimators': 200}\n",
      "0.3130463144161775 {'class_weight': {0: 0.45, 1: 0.55}, 'max_depth': 20, 'min_samples_leaf': 5, 'min_samples_split': 5, 'n_estimators': 300}\n",
      "0.2898238747553816 {'class_weight': {0: 0.45, 1: 0.55}, 'max_depth': 20, 'min_samples_leaf': 7, 'min_samples_split': 2, 'n_estimators': 200}\n",
      "0.3037834311806914 {'class_weight': {0: 0.45, 1: 0.55}, 'max_depth': 20, 'min_samples_leaf': 7, 'min_samples_split': 2, 'n_estimators': 300}\n",
      "0.2898238747553816 {'class_weight': {0: 0.45, 1: 0.55}, 'max_depth': 20, 'min_samples_leaf': 7, 'min_samples_split': 5, 'n_estimators': 200}\n",
      "0.3037834311806914 {'class_weight': {0: 0.45, 1: 0.55}, 'max_depth': 20, 'min_samples_leaf': 7, 'min_samples_split': 5, 'n_estimators': 300}\n",
      "Best model:\n",
      "\n",
      "RandomForestClassifier(bootstrap=True, class_weight={0: 0.42, 1: 0.58},\n",
      "            criterion='gini', max_depth=10, max_features='auto',\n",
      "            max_leaf_nodes=None, min_impurity_decrease=0.0,\n",
      "            min_impurity_split=None, min_samples_leaf=5,\n",
      "            min_samples_split=2, min_weight_fraction_leaf=0.0,\n",
      "            n_estimators=300, n_jobs=1, oob_score=False, random_state=11,\n",
      "            verbose=0, warm_start=False)\n",
      "\n",
      " Optimal parameters:\n",
      "{'class_weight': {0: 0.42, 1: 0.58}, 'max_depth': 10, 'min_samples_leaf': 5, 'min_samples_split': 2, 'n_estimators': 300}\n"
     ]
    }
   ],
   "source": [
    "rf = RandomForestClassifier(random_state=11,class_weight={0:0.46,1:0.54})\n",
    "print('Grid search results based on microarray dataset:\\n')\n",
    "param = {'n_estimators':[200,300],\n",
    "               'max_depth':[10,20],\n",
    "               'min_samples_leaf':[5,7],\n",
    "               'min_samples_split':[2,5],\n",
    "        'class_weight':[{0:0.4,1:0.6}, {0:0.42,1:0.58},{0:0.45, 1:0.55}]}\n",
    "best_rf = Gridsearchcv(train_m,micro_y_train,rf,param,3)"
   ]
  },
  {
   "cell_type": "markdown",
   "metadata": {},
   "source": [
    "- Evaluation on the test set"
   ]
  },
  {
   "cell_type": "code",
   "execution_count": 49,
   "metadata": {},
   "outputs": [
    {
     "data": {
      "image/png": "[encoded data removed]",
      "text/plain": [
       "<Figure size 432x288 with 1 Axes>"
      ]
     },
     "metadata": {},
     "output_type": "display_data"
    },
    {
     "name": "stdout",
     "output_type": "stream",
     "text": [
      "Sensitivity: 0.8125\n",
      "Specificity: 0.34782608695652173\n"
     ]
    }
   ],
   "source": [
    "# plot roc curve\n",
    "x_train = train_m; y_train = micro_y_train; x_test = test_m; y_test = micro_y_test; model = best_rf\n",
    "tpr, fpr, threshold = ROC_curve(x_train,y_train,x_test,y_test,model)\n",
    "print('Sensitivity:',tpr[0][tpr[0]>=0.8][0])\n",
    "print('Specificity:',1-fpr[0][np.where(tpr[0] >= 0.8)[0][0]])"
   ]
  },
  {
   "cell_type": "code",
   "execution_count": 50,
   "metadata": {},
   "outputs": [
    {
     "data": {
      "image/png": "[encoded data removed]",
      "text/plain": [
       "<Figure size 432x288 with 1 Axes>"
      ]
     },
     "metadata": {},
     "output_type": "display_data"
    }
   ],
   "source": [
    "# Visualize feature importance\n",
    "feature_imp = pd.Series(best_rf.feature_importances_,\n",
    "       index=train_m.columns).sort_values(ascending=False)\n",
    "a=sns.barplot(x=feature_imp[:20], y=feature_imp.index[:20])\n",
    "# Add labels to your graph\n",
    "plt.xlabel('Feature Importance Score')\n",
    "a.set_xscale('log')\n",
    "plt.ylabel('Features')\n",
    "plt.title(\"Visualizing Important Features\")\n",
    "plt.show()"
   ]
  },
  {
   "cell_type": "code",
   "execution_count": 51,
   "metadata": {},
   "outputs": [
    {
     "name": "stdout",
     "output_type": "stream",
     "text": [
      "Feature rank:\n",
      "RPL36AL                    0.03205068679327539\n",
      "LGALS2                     0.025546597570576698\n",
      "ADAM28                     0.02397507744668221\n",
      "TMEM190                    0.0238240829056796\n",
      "RFC1                       0.023028718155894013\n",
      "SBK1                       0.02234390524266666\n",
      "AGA                        0.02089568083592667\n",
      "ZBTB33                     0.019338157330642734\n",
      "PCNA                       0.018597584780518175\n",
      "SOD3                       0.018285212310416077\n",
      "LSM14A                     0.01802436745564906\n",
      "EZH2                       0.016944024164921922\n",
      "STEAP1                     0.01611326159247419\n",
      "MLPH                       0.016008944031486876\n",
      "GTF2I                      0.015970319230009602\n",
      "KDELR3                     0.015930141724091667\n",
      "COX7A2                     0.015840693037015473\n",
      "UBQLN1                     0.015558833413339392\n",
      "GNA15                      0.015289406461378231\n",
      "KIT                        0.014920296748860121\n"
     ]
    }
   ],
   "source": [
    "print('Feature rank:')\n",
    "genes = []\n",
    "for score, feature in sorted(zip(best_rf.feature_importances_, train_m.columns), reverse=True)[:20]:\n",
    "    if score >0.01:\n",
    "        genes.append(feature)\n",
    "        print('{0:26} {1:3}'.format(feature,score))"
   ]
  },
  {
   "cell_type": "markdown",
   "metadata": {},
   "source": [
    "- Tuning parameters based on RNA-seq datset with the first 450 differentially expressed genes."
   ]
  },
  {
   "cell_type": "code",
   "execution_count": 52,
   "metadata": {},
   "outputs": [],
   "source": [
    "## RNA-seq dataset #450\n",
    "train_r = gene_subset(rna_X_train,pval_rna,450)\n",
    "test_r = gene_subset(rna_X_test,pval_rna,450)\n",
    "train_R, test_R = standprocess(train_r, test_r)"
   ]
  },
  {
   "cell_type": "code",
   "execution_count": 53,
   "metadata": {},
   "outputs": [
    {
     "name": "stdout",
     "output_type": "stream",
     "text": [
      "Grid search results based on microarray dataset:\n",
      "\n",
      "0.4594034797017397 {'class_weight': {0: 0.4, 1: 0.6}, 'max_depth': 10, 'min_samples_leaf': 5, 'min_samples_split': 2, 'n_estimators': 200}\n",
      "0.48122065727699537 {'class_weight': {0: 0.4, 1: 0.6}, 'max_depth': 10, 'min_samples_leaf': 5, 'min_samples_split': 2, 'n_estimators': 300}\n",
      "0.4594034797017397 {'class_weight': {0: 0.4, 1: 0.6}, 'max_depth': 10, 'min_samples_leaf': 5, 'min_samples_split': 5, 'n_estimators': 200}\n",
      "0.48122065727699537 {'class_weight': {0: 0.4, 1: 0.6}, 'max_depth': 10, 'min_samples_leaf': 5, 'min_samples_split': 5, 'n_estimators': 300}\n",
      "0.4215225996501888 {'class_weight': {0: 0.4, 1: 0.6}, 'max_depth': 10, 'min_samples_leaf': 7, 'min_samples_split': 2, 'n_estimators': 200}\n",
      "0.4246524901040229 {'class_weight': {0: 0.4, 1: 0.6}, 'max_depth': 10, 'min_samples_leaf': 7, 'min_samples_split': 2, 'n_estimators': 300}\n",
      "0.4215225996501888 {'class_weight': {0: 0.4, 1: 0.6}, 'max_depth': 10, 'min_samples_leaf': 7, 'min_samples_split': 5, 'n_estimators': 200}\n",
      "0.4246524901040229 {'class_weight': {0: 0.4, 1: 0.6}, 'max_depth': 10, 'min_samples_leaf': 7, 'min_samples_split': 5, 'n_estimators': 300}\n",
      "0.4594034797017397 {'class_weight': {0: 0.4, 1: 0.6}, 'max_depth': 20, 'min_samples_leaf': 5, 'min_samples_split': 2, 'n_estimators': 200}\n",
      "0.48122065727699537 {'class_weight': {0: 0.4, 1: 0.6}, 'max_depth': 20, 'min_samples_leaf': 5, 'min_samples_split': 2, 'n_estimators': 300}\n",
      "0.4594034797017397 {'class_weight': {0: 0.4, 1: 0.6}, 'max_depth': 20, 'min_samples_leaf': 5, 'min_samples_split': 5, 'n_estimators': 200}\n",
      "0.48122065727699537 {'class_weight': {0: 0.4, 1: 0.6}, 'max_depth': 20, 'min_samples_leaf': 5, 'min_samples_split': 5, 'n_estimators': 300}\n",
      "0.4215225996501888 {'class_weight': {0: 0.4, 1: 0.6}, 'max_depth': 20, 'min_samples_leaf': 7, 'min_samples_split': 2, 'n_estimators': 200}\n",
      "0.4246524901040229 {'class_weight': {0: 0.4, 1: 0.6}, 'max_depth': 20, 'min_samples_leaf': 7, 'min_samples_split': 2, 'n_estimators': 300}\n",
      "0.4215225996501888 {'class_weight': {0: 0.4, 1: 0.6}, 'max_depth': 20, 'min_samples_leaf': 7, 'min_samples_split': 5, 'n_estimators': 200}\n",
      "0.4246524901040229 {'class_weight': {0: 0.4, 1: 0.6}, 'max_depth': 20, 'min_samples_leaf': 7, 'min_samples_split': 5, 'n_estimators': 300}\n",
      "0.43128049341802444 {'class_weight': {0: 0.42, 1: 0.58}, 'max_depth': 10, 'min_samples_leaf': 5, 'min_samples_split': 2, 'n_estimators': 200}\n",
      "0.47187701371628465 {'class_weight': {0: 0.42, 1: 0.58}, 'max_depth': 10, 'min_samples_leaf': 5, 'min_samples_split': 2, 'n_estimators': 300}\n",
      "0.43128049341802444 {'class_weight': {0: 0.42, 1: 0.58}, 'max_depth': 10, 'min_samples_leaf': 5, 'min_samples_split': 5, 'n_estimators': 200}\n",
      "0.47187701371628465 {'class_weight': {0: 0.42, 1: 0.58}, 'max_depth': 10, 'min_samples_leaf': 5, 'min_samples_split': 5, 'n_estimators': 300}\n",
      "0.4248366013071895 {'class_weight': {0: 0.42, 1: 0.58}, 'max_depth': 10, 'min_samples_leaf': 7, 'min_samples_split': 2, 'n_estimators': 200}\n",
      "0.42456043450243947 {'class_weight': {0: 0.42, 1: 0.58}, 'max_depth': 10, 'min_samples_leaf': 7, 'min_samples_split': 2, 'n_estimators': 300}\n",
      "0.4248366013071895 {'class_weight': {0: 0.42, 1: 0.58}, 'max_depth': 10, 'min_samples_leaf': 7, 'min_samples_split': 5, 'n_estimators': 200}\n",
      "0.42456043450243947 {'class_weight': {0: 0.42, 1: 0.58}, 'max_depth': 10, 'min_samples_leaf': 7, 'min_samples_split': 5, 'n_estimators': 300}\n",
      "0.43128049341802444 {'class_weight': {0: 0.42, 1: 0.58}, 'max_depth': 20, 'min_samples_leaf': 5, 'min_samples_split': 2, 'n_estimators': 200}\n",
      "0.47187701371628465 {'class_weight': {0: 0.42, 1: 0.58}, 'max_depth': 20, 'min_samples_leaf': 5, 'min_samples_split': 2, 'n_estimators': 300}\n",
      "0.43128049341802444 {'class_weight': {0: 0.42, 1: 0.58}, 'max_depth': 20, 'min_samples_leaf': 5, 'min_samples_split': 5, 'n_estimators': 200}\n",
      "0.47187701371628465 {'class_weight': {0: 0.42, 1: 0.58}, 'max_depth': 20, 'min_samples_leaf': 5, 'min_samples_split': 5, 'n_estimators': 300}\n",
      "0.4248366013071895 {'class_weight': {0: 0.42, 1: 0.58}, 'max_depth': 20, 'min_samples_leaf': 7, 'min_samples_split': 2, 'n_estimators': 200}\n",
      "0.42456043450243947 {'class_weight': {0: 0.42, 1: 0.58}, 'max_depth': 20, 'min_samples_leaf': 7, 'min_samples_split': 2, 'n_estimators': 300}\n",
      "0.4248366013071895 {'class_weight': {0: 0.42, 1: 0.58}, 'max_depth': 20, 'min_samples_leaf': 7, 'min_samples_split': 5, 'n_estimators': 200}\n",
      "0.42456043450243947 {'class_weight': {0: 0.42, 1: 0.58}, 'max_depth': 20, 'min_samples_leaf': 7, 'min_samples_split': 5, 'n_estimators': 300}\n",
      "0.4469299456871951 {'class_weight': {0: 0.45, 1: 0.55}, 'max_depth': 10, 'min_samples_leaf': 5, 'min_samples_split': 2, 'n_estimators': 200}\n",
      "0.44973764153548745 {'class_weight': {0: 0.45, 1: 0.55}, 'max_depth': 10, 'min_samples_leaf': 5, 'min_samples_split': 2, 'n_estimators': 300}\n",
      "0.4469299456871951 {'class_weight': {0: 0.45, 1: 0.55}, 'max_depth': 10, 'min_samples_leaf': 5, 'min_samples_split': 5, 'n_estimators': 200}\n",
      "0.44973764153548745 {'class_weight': {0: 0.45, 1: 0.55}, 'max_depth': 10, 'min_samples_leaf': 5, 'min_samples_split': 5, 'n_estimators': 300}\n",
      "0.42143054404860536 {'class_weight': {0: 0.45, 1: 0.55}, 'max_depth': 10, 'min_samples_leaf': 7, 'min_samples_split': 2, 'n_estimators': 200}\n",
      "0.4276442971554819 {'class_weight': {0: 0.45, 1: 0.55}, 'max_depth': 10, 'min_samples_leaf': 7, 'min_samples_split': 2, 'n_estimators': 300}\n",
      "0.42143054404860536 {'class_weight': {0: 0.45, 1: 0.55}, 'max_depth': 10, 'min_samples_leaf': 7, 'min_samples_split': 5, 'n_estimators': 200}\n",
      "0.4276442971554819 {'class_weight': {0: 0.45, 1: 0.55}, 'max_depth': 10, 'min_samples_leaf': 7, 'min_samples_split': 5, 'n_estimators': 300}\n",
      "0.4469299456871951 {'class_weight': {0: 0.45, 1: 0.55}, 'max_depth': 20, 'min_samples_leaf': 5, 'min_samples_split': 2, 'n_estimators': 200}\n",
      "0.44973764153548745 {'class_weight': {0: 0.45, 1: 0.55}, 'max_depth': 20, 'min_samples_leaf': 5, 'min_samples_split': 2, 'n_estimators': 300}\n",
      "0.4469299456871951 {'class_weight': {0: 0.45, 1: 0.55}, 'max_depth': 20, 'min_samples_leaf': 5, 'min_samples_split': 5, 'n_estimators': 200}\n",
      "0.44973764153548745 {'class_weight': {0: 0.45, 1: 0.55}, 'max_depth': 20, 'min_samples_leaf': 5, 'min_samples_split': 5, 'n_estimators': 300}\n",
      "0.42143054404860536 {'class_weight': {0: 0.45, 1: 0.55}, 'max_depth': 20, 'min_samples_leaf': 7, 'min_samples_split': 2, 'n_estimators': 200}\n",
      "0.4276442971554819 {'class_weight': {0: 0.45, 1: 0.55}, 'max_depth': 20, 'min_samples_leaf': 7, 'min_samples_split': 2, 'n_estimators': 300}\n",
      "0.42143054404860536 {'class_weight': {0: 0.45, 1: 0.55}, 'max_depth': 20, 'min_samples_leaf': 7, 'min_samples_split': 5, 'n_estimators': 200}\n",
      "0.4276442971554819 {'class_weight': {0: 0.45, 1: 0.55}, 'max_depth': 20, 'min_samples_leaf': 7, 'min_samples_split': 5, 'n_estimators': 300}\n",
      "Best model:\n",
      "\n",
      "RandomForestClassifier(bootstrap=True, class_weight={0: 0.4, 1: 0.6},\n",
      "            criterion='gini', max_depth=10, max_features='auto',\n",
      "            max_leaf_nodes=None, min_impurity_decrease=0.0,\n",
      "            min_impurity_split=None, min_samples_leaf=5,\n",
      "            min_samples_split=2, min_weight_fraction_leaf=0.0,\n",
      "            n_estimators=300, n_jobs=1, oob_score=False, random_state=7,\n",
      "            verbose=0, warm_start=False)\n",
      "\n",
      " Optimal parameters:\n",
      "{'class_weight': {0: 0.4, 1: 0.6}, 'max_depth': 10, 'min_samples_leaf': 5, 'min_samples_split': 2, 'n_estimators': 300}\n"
     ]
    }
   ],
   "source": [
    "rf = RandomForestClassifier(random_state=7,class_weight={0:0.46,1:0.54})\n",
    "print('Grid search results based on microarray dataset:\\n')\n",
    "param = {'n_estimators':[200,300],\n",
    "               'max_depth':[10,20],\n",
    "               'min_samples_leaf':[5,7],\n",
    "               'min_samples_split':[2,5],\n",
    "        'class_weight':[{0:0.4,1:0.6}, {0:0.42,1:0.58},{0:0.45, 1:0.55}]}\n",
    "best_rf = Gridsearchcv(train_r,rna_y_train,rf,param,3)"
   ]
  },
  {
   "cell_type": "markdown",
   "metadata": {},
   "source": [
    "- Evaluation on the test set"
   ]
  },
  {
   "cell_type": "code",
   "execution_count": 54,
   "metadata": {},
   "outputs": [
    {
     "data": {
      "image/png": "[encoded data removed]",
      "text/plain": [
       "<Figure size 432x288 with 1 Axes>"
      ]
     },
     "metadata": {},
     "output_type": "display_data"
    },
    {
     "name": "stdout",
     "output_type": "stream",
     "text": [
      "Sensitivity: 0.8888888888888888\n",
      "Specificity: 0.48275862068965514\n"
     ]
    }
   ],
   "source": [
    "# plot roc curve\n",
    "x_train = train_r; y_train = rna_y_train; x_test = test_r; y_test = rna_y_test; model = best_rf\n",
    "tpr, fpr, threshold = ROC_curve(x_train,y_train,x_test,y_test,model)\n",
    "print('Sensitivity:',tpr[0][tpr[0]>=0.8][0])\n",
    "print('Specificity:',1-fpr[0][np.where(tpr[0] >= 0.8)[0][0]])"
   ]
  },
  {
   "cell_type": "code",
   "execution_count": 55,
   "metadata": {},
   "outputs": [
    {
     "data": {
      "image/png": "[encoded data removed]",
      "text/plain": [
       "<Figure size 432x288 with 1 Axes>"
      ]
     },
     "metadata": {},
     "output_type": "display_data"
    }
   ],
   "source": [
    "# Visualize feature importance\n",
    "feature_imp = pd.Series(best_rf.feature_importances_,\n",
    "       index=train_r.columns).sort_values(ascending=False)\n",
    "a=sns.barplot(x=feature_imp[:20], y=feature_imp.index[:20])\n",
    "# Add labels to your graph\n",
    "plt.xlabel('Feature Importance Score')\n",
    "a.set_xscale('log')\n",
    "plt.ylabel('Features')\n",
    "plt.title(\"Visualizing Important Features\")\n",
    "plt.show()"
   ]
  },
  {
   "cell_type": "code",
   "execution_count": 56,
   "metadata": {},
   "outputs": [
    {
     "name": "stdout",
     "output_type": "stream",
     "text": [
      "Feature rank:\n",
      "VPS26B                     0.02475031087033508\n",
      "PITRM1                     0.02141396772982476\n",
      "UTP20                      0.015729504289485375\n",
      "BAG1                       0.015168473896298952\n",
      "KREMEN2                    0.01410192690527457\n",
      "UBE2O                      0.012844039558373061\n",
      "HUWE1                      0.012732096337099989\n",
      "ATP5G2                     0.012220440212460477\n",
      "SAP30                      0.012192891225620268\n",
      "NCDN                       0.011627711638561198\n",
      "TPCN2                      0.011392012524951286\n",
      "CNN2                       0.010321949036348891\n",
      "HPRT1                      0.010220748667912\n",
      "NMNAT1                     0.010173553236606469\n"
     ]
    }
   ],
   "source": [
    "print('Feature rank:')\n",
    "genes = []\n",
    "for score, feature in sorted(zip(best_rf.feature_importances_, train_r.columns), reverse=True)[:20]:\n",
    "    if score >0.01:\n",
    "        genes.append(feature)\n",
    "        print('{0:26} {1:3}'.format(feature,score))"
   ]
  },
  {
   "cell_type": "markdown",
   "metadata": {},
   "source": [
    "  "
   ]
  },
  {
   "cell_type": "markdown",
   "metadata": {},
   "source": [
    "**2. Logistic Regression**\n",
    "\n",
    "- Based on RNA-seq datset with the first 510 differentially expressed genes."
   ]
  },
  {
   "cell_type": "code",
   "execution_count": 57,
   "metadata": {},
   "outputs": [],
   "source": [
    "## RNA-seq dataset \n",
    "train_r = gene_subset(rna_X_train,pval_rna,510)\n",
    "test_r = gene_subset(rna_X_test,pval_rna,510)\n",
    "## standardize the dataset\n",
    "train_R, test_R = standprocess(train_r,test_r)"
   ]
  },
  {
   "cell_type": "code",
   "execution_count": 58,
   "metadata": {},
   "outputs": [
    {
     "name": "stdout",
     "output_type": "stream",
     "text": [
      "Grid search results based on microarray dataset:\n",
      "\n",
      "0.5353179684165599 {'C': 1, 'penalty': 'l1'}\n",
      "0.5122065727699531 {'C': 1, 'penalty': 'l2'}\n",
      "0.5043107127614169 {'C': 10, 'penalty': 'l1'}\n",
      "0.5449210413999146 {'C': 10, 'penalty': 'l2'}\n",
      "0.5056124626547163 {'C': 20, 'penalty': 'l1'}\n",
      "0.5449210413999146 {'C': 20, 'penalty': 'l2'}\n",
      "Best model:\n",
      "\n",
      "LogisticRegression(C=10, class_weight='balanced', dual=False,\n",
      "          fit_intercept=True, intercept_scaling=1, max_iter=100,\n",
      "          multi_class='ovr', n_jobs=1, penalty='l2', random_state=111,\n",
      "          solver='liblinear', tol=0.0001, verbose=0, warm_start=False)\n",
      "\n",
      " Optimal parameters:\n",
      "{'C': 10, 'penalty': 'l2'}\n"
     ]
    }
   ],
   "source": [
    "lr  = LogisticRegression(random_state=111,class_weight='balanced')\n",
    "print('Grid search results based on microarray dataset:\\n')\n",
    "param = {'C':[1,10,20],'penalty':['l1','l2']}\n",
    "best_lr = Gridsearchcv(train_R,rna_y_train,lr,param,5)"
   ]
  },
  {
   "cell_type": "code",
   "execution_count": 59,
   "metadata": {},
   "outputs": [
    {
     "data": {
      "image/png": "[encoded data removed]",
      "text/plain": [
       "<Figure size 432x288 with 1 Axes>"
      ]
     },
     "metadata": {},
     "output_type": "display_data"
    },
    {
     "name": "stdout",
     "output_type": "stream",
     "text": [
      "Sensitivity: 0.8888888888888888\n",
      "Specificity: 0.4137931034482759\n"
     ]
    }
   ],
   "source": [
    "x_train = train_R; y_train = rna_y_train; x_test = test_R; y_test = rna_y_test; model = best_lr\n",
    "tpr, fpr, threshold = ROC_curve(x_train,y_train,x_test,y_test,model)\n",
    "print('Sensitivity:',tpr[0][tpr[0]>=0.8][0])\n",
    "print('Specificity:',1-fpr[0][np.where(tpr[0] >= 0.8)[0][0]])"
   ]
  },
  {
   "cell_type": "markdown",
   "metadata": {},
   "source": [
    "- Based on microarray datset with the first 200 differentially expressed genes."
   ]
  },
  {
   "cell_type": "code",
   "execution_count": 60,
   "metadata": {},
   "outputs": [],
   "source": [
    "## Microarray dataset \n",
    "train_m = gene_subset(micro_X_train,pval_micro,200)\n",
    "test_m = gene_subset(micro_X_test,pval_micro,200)\n",
    "## standardize the dataset\n",
    "train_M, test_M = standprocess(train_m,test_m)"
   ]
  },
  {
   "cell_type": "code",
   "execution_count": 61,
   "metadata": {},
   "outputs": [
    {
     "name": "stdout",
     "output_type": "stream",
     "text": [
      "Grid search results based on microarray dataset:\n",
      "\n",
      "0.508751902587519 {'C': 1, 'penalty': 'l1'}\n",
      "0.48211567732115673 {'C': 1, 'penalty': 'l2'}\n",
      "0.4823059360730594 {'C': 10, 'penalty': 'l1'}\n",
      "0.48649162861491635 {'C': 10, 'penalty': 'l2'}\n",
      "0.4939117199391172 {'C': 15, 'penalty': 'l1'}\n",
      "0.49410197869101974 {'C': 15, 'penalty': 'l2'}\n",
      "0.5133181126331812 {'C': 20, 'penalty': 'l1'}\n",
      "0.49809741248097417 {'C': 20, 'penalty': 'l2'}\n",
      "Best model:\n",
      "\n",
      "LogisticRegression(C=20, class_weight='balanced', dual=False,\n",
      "          fit_intercept=True, intercept_scaling=1, max_iter=100,\n",
      "          multi_class='ovr', n_jobs=1, penalty='l1', random_state=77,\n",
      "          solver='liblinear', tol=0.0001, verbose=0, warm_start=False)\n",
      "\n",
      " Optimal parameters:\n",
      "{'C': 20, 'penalty': 'l1'}\n"
     ]
    }
   ],
   "source": [
    "lr  = LogisticRegression(random_state=77,class_weight='balanced')\n",
    "print('Grid search results based on microarray dataset:\\n')\n",
    "param = {'C':[1,10,15,20],'penalty':['l1','l2']}\n",
    "best_lr = Gridsearchcv(train_M,micro_y_train,lr,param,5)"
   ]
  },
  {
   "cell_type": "code",
   "execution_count": 62,
   "metadata": {},
   "outputs": [
    {
     "data": {
      "image/png": "[encoded data removed]",
      "text/plain": [
       "<Figure size 432x288 with 1 Axes>"
      ]
     },
     "metadata": {},
     "output_type": "display_data"
    },
    {
     "name": "stdout",
     "output_type": "stream",
     "text": [
      "Sensitivity: 0.8125\n",
      "Specificity: 0.5217391304347826\n"
     ]
    }
   ],
   "source": [
    "x_train = train_M; y_train = micro_y_train; x_test = test_M; y_test = micro_y_test; model = best_lr\n",
    "tpr, fpr, threshold = ROC_curve(x_train,y_train,x_test,y_test,model)\n",
    "print('Sensitivity:',tpr[0][tpr[0]>=0.8][0])\n",
    "print('Specificity:',1-fpr[0][np.where(tpr[0] >= 0.8)[0][0]])"
   ]
  },
  {
   "cell_type": "markdown",
   "metadata": {},
   "source": [
    "**3. k-nearest neighbors**\n",
    "\n",
    "- Based on RNA-seq datset with the first 40 differentially expressed genes."
   ]
  },
  {
   "cell_type": "code",
   "execution_count": 63,
   "metadata": {},
   "outputs": [],
   "source": [
    "## RNA-seq dataset \n",
    "train_r = gene_subset(rna_X_train,pval_rna,40)\n",
    "test_r = gene_subset(rna_X_test,pval_rna,40)\n",
    "## standardize the dataset\n",
    "train_R, test_R = standprocess(train_r,test_r)"
   ]
  },
  {
   "cell_type": "code",
   "execution_count": 64,
   "metadata": {},
   "outputs": [
    {
     "name": "stdout",
     "output_type": "stream",
     "text": [
      "Grid search results based on microarray dataset:\n",
      "\n",
      "0.43607554417413574 {'n_neighbors': 6, 'p': 1, 'weights': 'uniform'}\n",
      "0.44848484848484843 {'n_neighbors': 6, 'p': 1, 'weights': 'distance'}\n",
      "0.5187580025608194 {'n_neighbors': 6, 'p': 2, 'weights': 'uniform'}\n",
      "0.5652262057191634 {'n_neighbors': 6, 'p': 2, 'weights': 'distance'}\n",
      "0.5218096457533077 {'n_neighbors': 6, 'p': 3, 'weights': 'uniform'}\n",
      "0.5988369611609047 {'n_neighbors': 6, 'p': 3, 'weights': 'distance'}\n",
      "0.4997972684592403 {'n_neighbors': 7, 'p': 1, 'weights': 'uniform'}\n",
      "0.5074050362782757 {'n_neighbors': 7, 'p': 1, 'weights': 'distance'}\n",
      "0.5931818181818181 {'n_neighbors': 7, 'p': 2, 'weights': 'uniform'}\n",
      "0.5698250106700811 {'n_neighbors': 7, 'p': 2, 'weights': 'distance'}\n",
      "0.5340588988476312 {'n_neighbors': 7, 'p': 3, 'weights': 'uniform'}\n",
      "0.5842296201451129 {'n_neighbors': 7, 'p': 3, 'weights': 'distance'}\n",
      "0.4840909090909091 {'n_neighbors': 8, 'p': 1, 'weights': 'uniform'}\n",
      "0.4794921041399915 {'n_neighbors': 8, 'p': 1, 'weights': 'distance'}\n",
      "0.5224605206999573 {'n_neighbors': 8, 'p': 2, 'weights': 'uniform'}\n",
      "0.5663252240717028 {'n_neighbors': 8, 'p': 2, 'weights': 'distance'}\n",
      "0.5632735808792146 {'n_neighbors': 8, 'p': 3, 'weights': 'uniform'}\n",
      "0.6047375160051216 {'n_neighbors': 8, 'p': 3, 'weights': 'distance'}\n",
      "0.475138711054204 {'n_neighbors': 9, 'p': 1, 'weights': 'uniform'}\n",
      "0.49519846350832264 {'n_neighbors': 9, 'p': 1, 'weights': 'distance'}\n",
      "0.4995518565941101 {'n_neighbors': 9, 'p': 2, 'weights': 'uniform'}\n",
      "0.5580239009816473 {'n_neighbors': 9, 'p': 2, 'weights': 'distance'}\n",
      "0.5445155783183951 {'n_neighbors': 9, 'p': 3, 'weights': 'uniform'}\n",
      "0.5794280836534357 {'n_neighbors': 9, 'p': 3, 'weights': 'distance'}\n",
      "0.46203585147247117 {'n_neighbors': 10, 'p': 1, 'weights': 'uniform'}\n",
      "0.49039692701664533 {'n_neighbors': 10, 'p': 1, 'weights': 'distance'}\n",
      "0.46903542466922754 {'n_neighbors': 10, 'p': 2, 'weights': 'uniform'}\n",
      "0.5301109688433632 {'n_neighbors': 10, 'p': 2, 'weights': 'distance'}\n",
      "0.528809218950064 {'n_neighbors': 10, 'p': 3, 'weights': 'uniform'}\n",
      "0.5733247972684592 {'n_neighbors': 10, 'p': 3, 'weights': 'distance'}\n",
      "Best model:\n",
      "\n",
      "KNeighborsClassifier(algorithm='auto', leaf_size=30, metric='minkowski',\n",
      "           metric_params=None, n_jobs=1, n_neighbors=8, p=3,\n",
      "           weights='distance')\n",
      "\n",
      " Optimal parameters:\n",
      "{'n_neighbors': 8, 'p': 3, 'weights': 'distance'}\n"
     ]
    }
   ],
   "source": [
    "knn  = KNeighborsClassifier()\n",
    "print('Grid search results based on microarray dataset:\\n')\n",
    "param = {'n_neighbors':[6,7,8,9,10],'weights':['uniform','distance'],\n",
    "        'p':[1,2,3]}\n",
    "random.seed(7)\n",
    "best_knn = Gridsearchcv(train_R,rna_y_train,knn,param,5)"
   ]
  },
  {
   "cell_type": "code",
   "execution_count": 65,
   "metadata": {},
   "outputs": [
    {
     "data": {
      "image/png": "[encoded data removed]",
      "text/plain": [
       "<Figure size 432x288 with 1 Axes>"
      ]
     },
     "metadata": {},
     "output_type": "display_data"
    },
    {
     "name": "stdout",
     "output_type": "stream",
     "text": [
      "Sensitivity: 0.8888888888888888\n",
      "Specificity: 0.3793103448275862\n"
     ]
    }
   ],
   "source": [
    "x_train = train_R; y_train = rna_y_train; x_test = test_R; y_test = rna_y_test; model = best_knn\n",
    "tpr, fpr, threshold = ROC_curve(x_train,y_train,x_test,y_test,model)\n",
    "print('Sensitivity:',tpr[0][tpr[0]>=0.8][0])\n",
    "print('Specificity:',1-fpr[0][np.where(tpr[0] >= 0.8)[0][0]])"
   ]
  },
  {
   "cell_type": "markdown",
   "metadata": {},
   "source": [
    "- Based on microarray datset with the first 40 differentially expressed genes.\n"
   ]
  },
  {
   "cell_type": "code",
   "execution_count": 66,
   "metadata": {},
   "outputs": [],
   "source": [
    "## Microarray dataset \n",
    "train_m = gene_subset(micro_X_train,pval_micro,40)\n",
    "test_m = gene_subset(micro_X_test,pval_micro,40)\n",
    "## standardize the dataset\n",
    "train_M, test_M = standprocess(train_m,test_m)"
   ]
  },
  {
   "cell_type": "code",
   "execution_count": 67,
   "metadata": {},
   "outputs": [
    {
     "name": "stdout",
     "output_type": "stream",
     "text": [
      "Grid search results based on microarray dataset:\n",
      "\n",
      "0.5059931506849316 {'n_neighbors': 6, 'p': 1, 'weights': 'uniform'}\n",
      "0.44843987823439874 {'n_neighbors': 6, 'p': 1, 'weights': 'distance'}\n",
      "0.5106544901065448 {'n_neighbors': 6, 'p': 2, 'weights': 'uniform'}\n",
      "0.42560882800608824 {'n_neighbors': 6, 'p': 2, 'weights': 'distance'}\n",
      "0.4870624048706241 {'n_neighbors': 6, 'p': 3, 'weights': 'uniform'}\n",
      "0.41210045662100453 {'n_neighbors': 6, 'p': 3, 'weights': 'distance'}\n",
      "0.43103120243531207 {'n_neighbors': 6, 'p': 4, 'weights': 'uniform'}\n",
      "0.377283105022831 {'n_neighbors': 6, 'p': 4, 'weights': 'distance'}\n",
      "0.5354832572298326 {'n_neighbors': 7, 'p': 1, 'weights': 'uniform'}\n",
      "0.48744292237442927 {'n_neighbors': 7, 'p': 1, 'weights': 'distance'}\n",
      "0.47612252663622523 {'n_neighbors': 7, 'p': 2, 'weights': 'uniform'}\n",
      "0.4244672754946728 {'n_neighbors': 7, 'p': 2, 'weights': 'distance'}\n",
      "0.5470890410958904 {'n_neighbors': 7, 'p': 3, 'weights': 'uniform'}\n",
      "0.46765601217656005 {'n_neighbors': 7, 'p': 3, 'weights': 'distance'}\n",
      "0.4571917808219178 {'n_neighbors': 7, 'p': 4, 'weights': 'uniform'}\n",
      "0.3715753424657534 {'n_neighbors': 7, 'p': 4, 'weights': 'distance'}\n",
      "0.5016171993911719 {'n_neighbors': 8, 'p': 1, 'weights': 'uniform'}\n",
      "0.47488584474885853 {'n_neighbors': 8, 'p': 1, 'weights': 'distance'}\n",
      "0.4939117199391172 {'n_neighbors': 8, 'p': 2, 'weights': 'uniform'}\n",
      "0.44767884322678847 {'n_neighbors': 8, 'p': 2, 'weights': 'distance'}\n",
      "0.4932458143074581 {'n_neighbors': 8, 'p': 3, 'weights': 'uniform'}\n",
      "0.42865296803652975 {'n_neighbors': 8, 'p': 3, 'weights': 'distance'}\n",
      "0.4615677321156773 {'n_neighbors': 8, 'p': 4, 'weights': 'uniform'}\n",
      "0.38375190258751896 {'n_neighbors': 8, 'p': 4, 'weights': 'distance'}\n",
      "0.5136986301369862 {'n_neighbors': 9, 'p': 1, 'weights': 'uniform'}\n",
      "0.4942922374429224 {'n_neighbors': 9, 'p': 1, 'weights': 'distance'}\n",
      "0.46746575342465746 {'n_neighbors': 9, 'p': 2, 'weights': 'uniform'}\n",
      "0.40582191780821913 {'n_neighbors': 9, 'p': 2, 'weights': 'distance'}\n",
      "0.4300799086757991 {'n_neighbors': 9, 'p': 3, 'weights': 'uniform'}\n",
      "0.3561643835616438 {'n_neighbors': 9, 'p': 3, 'weights': 'distance'}\n",
      "0.4811643835616438 {'n_neighbors': 9, 'p': 4, 'weights': 'uniform'}\n",
      "0.41514459665144604 {'n_neighbors': 9, 'p': 4, 'weights': 'distance'}\n",
      "Best model:\n",
      "\n",
      "KNeighborsClassifier(algorithm='auto', leaf_size=30, metric='minkowski',\n",
      "           metric_params=None, n_jobs=1, n_neighbors=7, p=3,\n",
      "           weights='uniform')\n",
      "\n",
      " Optimal parameters:\n",
      "{'n_neighbors': 7, 'p': 3, 'weights': 'uniform'}\n"
     ]
    }
   ],
   "source": [
    "knn  = KNeighborsClassifier()\n",
    "random.seed(77)\n",
    "print('Grid search results based on microarray dataset:\\n')\n",
    "param = {'n_neighbors':[6,7,8,9],'weights':['uniform','distance'],\n",
    "        'p':[1,2,3,4]}\n",
    "best_knn = Gridsearchcv(train_M,micro_y_train,knn,param,5)"
   ]
  },
  {
   "cell_type": "code",
   "execution_count": 68,
   "metadata": {},
   "outputs": [
    {
     "data": {
      "image/png": "[encoded data removed]",
      "text/plain": [
       "<Figure size 432x288 with 1 Axes>"
      ]
     },
     "metadata": {},
     "output_type": "display_data"
    },
    {
     "name": "stdout",
     "output_type": "stream",
     "text": [
      "Sensitivity: 0.8125\n",
      "Specificity: 0.30434782608695654\n"
     ]
    }
   ],
   "source": [
    "x_train = train_M; y_train = micro_y_train; x_test = test_M; y_test = micro_y_test; model = best_knn\n",
    "tpr, fpr, threshold = ROC_curve(x_train,y_train,x_test,y_test,model)\n",
    "print('Sensitivity:',tpr[0][tpr[0]>=0.8][0])\n",
    "print('Specificity:',1-fpr[0][np.where(tpr[0] >= 0.8)[0][0]])"
   ]
  },
  {
   "cell_type": "markdown",
   "metadata": {},
   "source": [
    "### Present the Solution"
   ]
  },
  {
   "cell_type": "markdown",
   "metadata": {},
   "source": [
    "In our project, random forest, k-Nearest Neighbors, and logistic regression are utilized to establish a classifier.\n",
    "In order to obtain comparable results, we try all three methods on RNA sequence dataset and microarrays dataset. First, we process the target variable \"NodeStatus\", which equals to 1 corresponding to \"positive\" and 0 corresponding to \"negative\". Second, we pick some relevant features 'age', 'smoking', and 'gender' from the phenotype dataset, convert and combine them with gene expressions dataset. Then we split both datasets randomly into the training set and test set. Training set will be further split into validation set which helps us pick parameters and train set which is utilized to train models. We will not touch test set until the last moment comes when all models are set up and tuned well. Additionally, detecting differentially expressed genes is very important for building our classifier. There are various methods to identify DEGs and here we use a non-parametric one Wilcoxon rank sum test because the amount of our dataset is relatively too small. We create functions to process, split datasets and standardize features which are prerequisite for some of machine learning algorithms. After preparing the data, we try several categories methods, compare their performance and pick some of the promising ones and use GridSearch cross-validation method to extensively tune hyper-parameters. Evaluate the results on RNA sequence dataset and microarray dataset with a different number of differentially expressed genes by plotting ROC curve and reporting Sensitivity and Specificity, respectively. For each ROC curve, we find the point which sens($t_{80}$) ≥ 0.80 and report the corresponding specificity spec($t_{80}$).\n",
    "\n",
    "- Comparison of results\n",
    "\n",
    "\n",
    "\n",
    "   \n",
    "| Dataset   |  |Random Forest                       |  Logistic Regression  | K-Nearest Neighbors | \n",
    "| :------   | :--------------------------------:    |\n",
    "| RNA-seq   | [Sensitivity](https://en.wikipedia.org/wiki/Sensitivity_and_specificity) | 0.8889(450DEGs)|0.8889(510DEGs)|0.8889(40DEGs)|\n",
    "|           | [Specificity](https://en.wikipedia.org/wiki/Sensitivity_and_specificity) | 0.4828(450DEGs)|0.4138(510DEGs)|0.3793(40DEGs)|\n",
    "|Microarray | [Sensitivity](https://en.wikipedia.org/wiki/Sensitivity_and_specificity) | 0.8125(80DEGs) |0.8125(200DEGs)|0.8125(40DEGs)|\n",
    "|           | [Specificity](https://en.wikipedia.org/wiki/Sensitivity_and_specificity) | 0.3478(80DEGs) |0.5217(200DEGs)|0.3043(40DEGs)|\n",
    "> DEGs is short for differentially expressed genes.\n",
    "\n",
    "\n",
    "- Describe what worked, what did not and what can try in the future.\n",
    " 1. Standardizing differentially expressed genes and adjusting the number of DEGs in the training and test set help us improve the AUC score.\n",
    " 2. Since the number of features is much larger than the amount of dataset, for different classification algorithms, the performance will be significantly influenced by selected features. The optimal number of genes to be selected is variant and can be considered as a hyper-parameter.\n",
    " 3. Directly combining RNA-seq with microarray dataset together to fit the model does not improve classification performance. \n",
    " 4. Domain knowledge is a requirement for merging two datasets collected by different technology, but if it works, it will greatly improve the accuracy of our classification.\n",
    " 5. Other detecting methods of DEGs may work, except for some statistical methods, it is a good idea to use feature importance of tree models, combining them with genes selected by Wilcoxon rank sum test to train a model.\n",
    "\n",
    "\n",
    "- Reference<br>\n",
    "[Microarray Data Analysis](https://discover.nci.nih.gov/microarrayAnalysis/Statistical.Tests.jsp)<br>\n",
    "[Integrating gene expression profiles across different platforms](https://www.rna-seqblog.com/integrating-gene-expression-profiles-across-different-platforms/)<br>\n",
    "[An Improved Method on Wilcoxon Rank Sum Test for Gene Selection from Microarray Experiments](https://www.tandfonline.com/doi/abs/10.1080/03610918.2012.667479)"
   ]
  }
 ],
 "metadata": {
  "kernelspec": {
   "display_name": "Python 3",
   "language": "python",
   "name": "python3"
  },
  "language_info": {
   "codemirror_mode": {
    "name": "ipython",
    "version": 3
   },
   "file_extension": ".py",
   "mimetype": "text/x-python",
   "name": "python",
   "nbconvert_exporter": "python",
   "pygments_lexer": "ipython3",
   "version": "3.6.5"
  }
 },
 "nbformat": 4,
 "nbformat_minor": 2
}
